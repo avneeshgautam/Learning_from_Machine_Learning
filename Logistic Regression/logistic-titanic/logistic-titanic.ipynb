{
 "cells": [
  {
   "cell_type": "code",
   "execution_count": 1,
   "metadata": {},
   "outputs": [],
   "source": [
    "import numpy as np\n",
    "import matplotlib.pyplot as plt \n",
    "import pandas as pd"
   ]
  },
  {
   "cell_type": "code",
   "execution_count": 2,
   "metadata": {},
   "outputs": [],
   "source": [
    "X_train = pd.read_csv('train_X.csv')\n",
    "X_test = pd.read_csv('test_X.csv')\n",
    "y_train = pd.read_csv('train_y.csv')\n",
    "y_test = pd.read_csv('test_y.csv')"
   ]
  },
  {
   "cell_type": "code",
   "execution_count": 3,
   "metadata": {},
   "outputs": [
    {
     "data": {
      "text/plain": [
       "<bound method NDFrame.head of       Id  Pclass  Sex   Age  SibSp  Parch     Fare  Embarked\n",
       "0      0       3    0  22.0      1      0   7.2500         1\n",
       "1      1       1    1  38.0      1      0  71.2833         0\n",
       "2      2       3    1  26.0      0      0   7.9250         1\n",
       "3      3       1    1  35.0      1      0  53.1000         1\n",
       "4      4       3    0  35.0      0      0   8.0500         1\n",
       "..   ...     ...  ...   ...    ...    ...      ...       ...\n",
       "886  886       2    0  27.0      0      0  13.0000         1\n",
       "887  887       1    1  19.0      0      0  30.0000         1\n",
       "888  888       3    1  20.0      1      2  23.4500         1\n",
       "889  889       1    0  26.0      0      0  30.0000         0\n",
       "890  890       3    0  32.0      0      0   7.7500         2\n",
       "\n",
       "[891 rows x 8 columns]>"
      ]
     },
     "execution_count": 3,
     "metadata": {},
     "output_type": "execute_result"
    }
   ],
   "source": [
    "X_train.head"
   ]
  },
  {
   "cell_type": "code",
   "execution_count": 4,
   "metadata": {},
   "outputs": [],
   "source": [
    "X_train = X_train.drop('Id',axis = 1)\n",
    "X_test = X_test.drop('Id',axis = 1)\n",
    "y_train = y_train.drop('Id',axis = 1)\n",
    "y_test = y_test.drop('Id',axis = 1)"
   ]
  },
  {
   "cell_type": "code",
   "execution_count": 5,
   "metadata": {},
   "outputs": [
    {
     "data": {
      "text/plain": [
       "<bound method NDFrame.head of      Pclass  Sex   Age  SibSp  Parch     Fare  Embarked\n",
       "0         3    0  22.0      1      0   7.2500         1\n",
       "1         1    1  38.0      1      0  71.2833         0\n",
       "2         3    1  26.0      0      0   7.9250         1\n",
       "3         1    1  35.0      1      0  53.1000         1\n",
       "4         3    0  35.0      0      0   8.0500         1\n",
       "..      ...  ...   ...    ...    ...      ...       ...\n",
       "886       2    0  27.0      0      0  13.0000         1\n",
       "887       1    1  19.0      0      0  30.0000         1\n",
       "888       3    1  20.0      1      2  23.4500         1\n",
       "889       1    0  26.0      0      0  30.0000         0\n",
       "890       3    0  32.0      0      0   7.7500         2\n",
       "\n",
       "[891 rows x 7 columns]>"
      ]
     },
     "execution_count": 5,
     "metadata": {},
     "output_type": "execute_result"
    }
   ],
   "source": [
    "X_train.head"
   ]
  },
  {
   "cell_type": "code",
   "execution_count": 6,
   "metadata": {},
   "outputs": [],
   "source": [
    "#converting into numpy array\n",
    "X_train = X_train.values"
   ]
  },
  {
   "cell_type": "code",
   "execution_count": 7,
   "metadata": {},
   "outputs": [],
   "source": [
    "X_test = X_test.values\n",
    "y_train = y_train.values\n",
    "y_test = y_test.values"
   ]
  },
  {
   "cell_type": "code",
   "execution_count": 8,
   "metadata": {},
   "outputs": [],
   "source": [
    "X_train = X_train.T\n",
    "y_train = y_train.reshape(1, X_train.shape[1])\n",
    "\n",
    "X_test = X_test.T\n",
    "y_test = y_test.reshape(1, X_test.shape[1])"
   ]
  },
  {
   "cell_type": "code",
   "execution_count": 10,
   "metadata": {},
   "outputs": [
    {
     "name": "stdout",
     "output_type": "stream",
     "text": [
      "Shape of X_train :  (7, 891)\n",
      "Shape of Y_train :  (1, 891)\n",
      "Shape of X_test :  (7, 418)\n",
      "Shape of Y_test :  (1, 418)\n"
     ]
    }
   ],
   "source": [
    "print(\"Shape of X_train : \", X_train.shape)\n",
    "print(\"Shape of Y_train : \", y_train.shape)\n",
    "print(\"Shape of X_test : \", X_test.shape)\n",
    "print(\"Shape of Y_test : \", y_test.shape)"
   ]
  },
  {
   "cell_type": "code",
   "execution_count": 11,
   "metadata": {},
   "outputs": [],
   "source": [
    "def sigmoid(x):\n",
    "    return 1/(1+ np.exp(-x))"
   ]
  },
  {
   "cell_type": "code",
   "execution_count": 49,
   "metadata": {},
   "outputs": [],
   "source": [
    "from sklearn.metrics import log_loss\n",
    "\n",
    "def model(X,y, learning_rate, iterations):\n",
    "    m = X_train.shape[1]\n",
    "    n = X_train.shape[0]\n",
    "\n",
    "    W = np.zeros((n,1))\n",
    "    B = 0\n",
    "\n",
    "    cost_list=[]\n",
    "    \n",
    "\n",
    "    for i in range(iterations):\n",
    "        A = sigmoid(np.dot(W.T,X) + B)\n",
    "        #cost function \n",
    "        cost = (-1/m)* np.sum(y*np.log(A) + (1-y)*np.log(1-A))\n",
    "        \n",
    "        # Calculate log loss (which is equivalent to binary cross-entropy loss)\n",
    "        loss = log_loss(A, y)\n",
    "        print(loss)\n",
    "        # Gradient Descent\n",
    "        dW = (1/m)*np.dot(A-y, X.T)\n",
    "        dB = (1/m)*np.sum(A - y)\n",
    "        \n",
    "        W = W - learning_rate*dW.T\n",
    "        B = B - learning_rate*dB\n",
    "\n",
    "        cost_list.append(cost)\n",
    "        \n",
    "        if(i%(iterations/10) == 0):\n",
    "            print(\"cost after \", i, \"iteration is : \", cost)\n",
    "        \n",
    "    return W, B, cost_list"
   ]
  },
  {
   "cell_type": "code",
   "execution_count": 50,
   "metadata": {},
   "outputs": [
    {
     "ename": "ValueError",
     "evalue": "Multioutput target data is not supported with label binarization",
     "output_type": "error",
     "traceback": [
      "\u001b[0;31m---------------------------------------------------------------------------\u001b[0m",
      "\u001b[0;31mValueError\u001b[0m                                Traceback (most recent call last)",
      "Cell \u001b[0;32mIn[50], line 3\u001b[0m\n\u001b[1;32m      1\u001b[0m iterations \u001b[38;5;241m=\u001b[39m \u001b[38;5;241m100\u001b[39m\n\u001b[1;32m      2\u001b[0m learning_rate \u001b[38;5;241m=\u001b[39m \u001b[38;5;241m0.0015\u001b[39m\n\u001b[0;32m----> 3\u001b[0m W, B, cost_list \u001b[38;5;241m=\u001b[39m \u001b[43mmodel\u001b[49m\u001b[43m(\u001b[49m\u001b[43mX_train\u001b[49m\u001b[43m,\u001b[49m\u001b[43m \u001b[49m\u001b[43my_train\u001b[49m\u001b[43m,\u001b[49m\u001b[43m \u001b[49m\u001b[43mlearning_rate\u001b[49m\u001b[43m \u001b[49m\u001b[38;5;241;43m=\u001b[39;49m\u001b[43m \u001b[49m\u001b[43mlearning_rate\u001b[49m\u001b[43m,\u001b[49m\u001b[43m \u001b[49m\u001b[43miterations\u001b[49m\u001b[43m \u001b[49m\u001b[38;5;241;43m=\u001b[39;49m\u001b[43m \u001b[49m\u001b[43miterations\u001b[49m\u001b[43m)\u001b[49m\n",
      "Cell \u001b[0;32mIn[49], line 19\u001b[0m, in \u001b[0;36mmodel\u001b[0;34m(X, y, learning_rate, iterations)\u001b[0m\n\u001b[1;32m     16\u001b[0m cost \u001b[38;5;241m=\u001b[39m (\u001b[38;5;241m-\u001b[39m\u001b[38;5;241m1\u001b[39m\u001b[38;5;241m/\u001b[39mm)\u001b[38;5;241m*\u001b[39m np\u001b[38;5;241m.\u001b[39msum(y\u001b[38;5;241m*\u001b[39mnp\u001b[38;5;241m.\u001b[39mlog(A) \u001b[38;5;241m+\u001b[39m (\u001b[38;5;241m1\u001b[39m\u001b[38;5;241m-\u001b[39my)\u001b[38;5;241m*\u001b[39mnp\u001b[38;5;241m.\u001b[39mlog(\u001b[38;5;241m1\u001b[39m\u001b[38;5;241m-\u001b[39mA))\n\u001b[1;32m     18\u001b[0m \u001b[38;5;66;03m# Calculate log loss (which is equivalent to binary cross-entropy loss)\u001b[39;00m\n\u001b[0;32m---> 19\u001b[0m loss \u001b[38;5;241m=\u001b[39m \u001b[43mlog_loss\u001b[49m\u001b[43m(\u001b[49m\u001b[43mA\u001b[49m\u001b[43m,\u001b[49m\u001b[43m \u001b[49m\u001b[43my\u001b[49m\u001b[43m)\u001b[49m\n\u001b[1;32m     20\u001b[0m \u001b[38;5;28mprint\u001b[39m(loss)\n\u001b[1;32m     21\u001b[0m \u001b[38;5;66;03m# Gradient Descent\u001b[39;00m\n",
      "File \u001b[0;32m/Library/Frameworks/Python.framework/Versions/3.12/lib/python3.12/site-packages/sklearn/utils/_param_validation.py:213\u001b[0m, in \u001b[0;36mvalidate_params.<locals>.decorator.<locals>.wrapper\u001b[0;34m(*args, **kwargs)\u001b[0m\n\u001b[1;32m    207\u001b[0m \u001b[38;5;28;01mtry\u001b[39;00m:\n\u001b[1;32m    208\u001b[0m     \u001b[38;5;28;01mwith\u001b[39;00m config_context(\n\u001b[1;32m    209\u001b[0m         skip_parameter_validation\u001b[38;5;241m=\u001b[39m(\n\u001b[1;32m    210\u001b[0m             prefer_skip_nested_validation \u001b[38;5;129;01mor\u001b[39;00m global_skip_validation\n\u001b[1;32m    211\u001b[0m         )\n\u001b[1;32m    212\u001b[0m     ):\n\u001b[0;32m--> 213\u001b[0m         \u001b[38;5;28;01mreturn\u001b[39;00m \u001b[43mfunc\u001b[49m\u001b[43m(\u001b[49m\u001b[38;5;241;43m*\u001b[39;49m\u001b[43margs\u001b[49m\u001b[43m,\u001b[49m\u001b[43m \u001b[49m\u001b[38;5;241;43m*\u001b[39;49m\u001b[38;5;241;43m*\u001b[39;49m\u001b[43mkwargs\u001b[49m\u001b[43m)\u001b[49m\n\u001b[1;32m    214\u001b[0m \u001b[38;5;28;01mexcept\u001b[39;00m InvalidParameterError \u001b[38;5;28;01mas\u001b[39;00m e:\n\u001b[1;32m    215\u001b[0m     \u001b[38;5;66;03m# When the function is just a wrapper around an estimator, we allow\u001b[39;00m\n\u001b[1;32m    216\u001b[0m     \u001b[38;5;66;03m# the function to delegate validation to the estimator, but we replace\u001b[39;00m\n\u001b[1;32m    217\u001b[0m     \u001b[38;5;66;03m# the name of the estimator by the name of the function in the error\u001b[39;00m\n\u001b[1;32m    218\u001b[0m     \u001b[38;5;66;03m# message to avoid confusion.\u001b[39;00m\n\u001b[1;32m    219\u001b[0m     msg \u001b[38;5;241m=\u001b[39m re\u001b[38;5;241m.\u001b[39msub(\n\u001b[1;32m    220\u001b[0m         \u001b[38;5;124mr\u001b[39m\u001b[38;5;124m\"\u001b[39m\u001b[38;5;124mparameter of \u001b[39m\u001b[38;5;124m\\\u001b[39m\u001b[38;5;124mw+ must be\u001b[39m\u001b[38;5;124m\"\u001b[39m,\n\u001b[1;32m    221\u001b[0m         \u001b[38;5;124mf\u001b[39m\u001b[38;5;124m\"\u001b[39m\u001b[38;5;124mparameter of \u001b[39m\u001b[38;5;132;01m{\u001b[39;00mfunc\u001b[38;5;241m.\u001b[39m\u001b[38;5;18m__qualname__\u001b[39m\u001b[38;5;132;01m}\u001b[39;00m\u001b[38;5;124m must be\u001b[39m\u001b[38;5;124m\"\u001b[39m,\n\u001b[1;32m    222\u001b[0m         \u001b[38;5;28mstr\u001b[39m(e),\n\u001b[1;32m    223\u001b[0m     )\n",
      "File \u001b[0;32m/Library/Frameworks/Python.framework/Versions/3.12/lib/python3.12/site-packages/sklearn/metrics/_classification.py:2925\u001b[0m, in \u001b[0;36mlog_loss\u001b[0;34m(y_true, y_pred, eps, normalize, sample_weight, labels)\u001b[0m\n\u001b[1;32m   2923\u001b[0m     lb\u001b[38;5;241m.\u001b[39mfit(labels)\n\u001b[1;32m   2924\u001b[0m \u001b[38;5;28;01melse\u001b[39;00m:\n\u001b[0;32m-> 2925\u001b[0m     \u001b[43mlb\u001b[49m\u001b[38;5;241;43m.\u001b[39;49m\u001b[43mfit\u001b[49m\u001b[43m(\u001b[49m\u001b[43my_true\u001b[49m\u001b[43m)\u001b[49m\n\u001b[1;32m   2927\u001b[0m \u001b[38;5;28;01mif\u001b[39;00m \u001b[38;5;28mlen\u001b[39m(lb\u001b[38;5;241m.\u001b[39mclasses_) \u001b[38;5;241m==\u001b[39m \u001b[38;5;241m1\u001b[39m:\n\u001b[1;32m   2928\u001b[0m     \u001b[38;5;28;01mif\u001b[39;00m labels \u001b[38;5;129;01mis\u001b[39;00m \u001b[38;5;28;01mNone\u001b[39;00m:\n",
      "File \u001b[0;32m/Library/Frameworks/Python.framework/Versions/3.12/lib/python3.12/site-packages/sklearn/base.py:1474\u001b[0m, in \u001b[0;36m_fit_context.<locals>.decorator.<locals>.wrapper\u001b[0;34m(estimator, *args, **kwargs)\u001b[0m\n\u001b[1;32m   1467\u001b[0m     estimator\u001b[38;5;241m.\u001b[39m_validate_params()\n\u001b[1;32m   1469\u001b[0m \u001b[38;5;28;01mwith\u001b[39;00m config_context(\n\u001b[1;32m   1470\u001b[0m     skip_parameter_validation\u001b[38;5;241m=\u001b[39m(\n\u001b[1;32m   1471\u001b[0m         prefer_skip_nested_validation \u001b[38;5;129;01mor\u001b[39;00m global_skip_validation\n\u001b[1;32m   1472\u001b[0m     )\n\u001b[1;32m   1473\u001b[0m ):\n\u001b[0;32m-> 1474\u001b[0m     \u001b[38;5;28;01mreturn\u001b[39;00m \u001b[43mfit_method\u001b[49m\u001b[43m(\u001b[49m\u001b[43mestimator\u001b[49m\u001b[43m,\u001b[49m\u001b[43m \u001b[49m\u001b[38;5;241;43m*\u001b[39;49m\u001b[43margs\u001b[49m\u001b[43m,\u001b[49m\u001b[43m \u001b[49m\u001b[38;5;241;43m*\u001b[39;49m\u001b[38;5;241;43m*\u001b[39;49m\u001b[43mkwargs\u001b[49m\u001b[43m)\u001b[49m\n",
      "File \u001b[0;32m/Library/Frameworks/Python.framework/Versions/3.12/lib/python3.12/site-packages/sklearn/preprocessing/_label.py:299\u001b[0m, in \u001b[0;36mLabelBinarizer.fit\u001b[0;34m(self, y)\u001b[0m\n\u001b[1;32m    296\u001b[0m \u001b[38;5;28mself\u001b[39m\u001b[38;5;241m.\u001b[39my_type_ \u001b[38;5;241m=\u001b[39m type_of_target(y, input_name\u001b[38;5;241m=\u001b[39m\u001b[38;5;124m\"\u001b[39m\u001b[38;5;124my\u001b[39m\u001b[38;5;124m\"\u001b[39m)\n\u001b[1;32m    298\u001b[0m \u001b[38;5;28;01mif\u001b[39;00m \u001b[38;5;124m\"\u001b[39m\u001b[38;5;124mmultioutput\u001b[39m\u001b[38;5;124m\"\u001b[39m \u001b[38;5;129;01min\u001b[39;00m \u001b[38;5;28mself\u001b[39m\u001b[38;5;241m.\u001b[39my_type_:\n\u001b[0;32m--> 299\u001b[0m     \u001b[38;5;28;01mraise\u001b[39;00m \u001b[38;5;167;01mValueError\u001b[39;00m(\n\u001b[1;32m    300\u001b[0m         \u001b[38;5;124m\"\u001b[39m\u001b[38;5;124mMultioutput target data is not supported with label binarization\u001b[39m\u001b[38;5;124m\"\u001b[39m\n\u001b[1;32m    301\u001b[0m     )\n\u001b[1;32m    302\u001b[0m \u001b[38;5;28;01mif\u001b[39;00m _num_samples(y) \u001b[38;5;241m==\u001b[39m \u001b[38;5;241m0\u001b[39m:\n\u001b[1;32m    303\u001b[0m     \u001b[38;5;28;01mraise\u001b[39;00m \u001b[38;5;167;01mValueError\u001b[39;00m(\u001b[38;5;124m\"\u001b[39m\u001b[38;5;124my has 0 samples: \u001b[39m\u001b[38;5;132;01m%r\u001b[39;00m\u001b[38;5;124m\"\u001b[39m \u001b[38;5;241m%\u001b[39m y)\n",
      "\u001b[0;31mValueError\u001b[0m: Multioutput target data is not supported with label binarization"
     ]
    }
   ],
   "source": [
    "iterations = 100\n",
    "learning_rate = 0.0015\n",
    "W, B, cost_list = model(X_train, y_train, learning_rate = learning_rate, iterations = iterations)"
   ]
  },
  {
   "cell_type": "code",
   "execution_count": 18,
   "metadata": {},
   "outputs": [
    {
     "data": {
      "image/png": "[encoded data removed]",
      "text/plain": [
       "<Figure size 640x480 with 1 Axes>"
      ]
     },
     "metadata": {},
     "output_type": "display_data"
    }
   ],
   "source": [
    "plt.plot(np.arange(iterations), cost_list)\n",
    "plt.show()"
   ]
  },
  {
   "cell_type": "code",
   "execution_count": 39,
   "metadata": {},
   "outputs": [],
   "source": [
    "\n",
    "def accuracy(X, y, W, B):\n",
    "    \n",
    "    Z = np.dot(W.T, X) + B\n",
    "    A = sigmoid(Z)\n",
    "    print(A)\n",
    "    A = A > 0.5\n",
    "\n",
    "    print(A)\n",
    "\n",
    "    A = np.array(A, dtype = 'int64')\n",
    "\n",
    "    print(A)\n",
    "    acc = (1 - np.sum(np.absolute(A - y))/y.shape[1])*100    ##np.sum(np.absolute(A - y) -> 1 for incorrect\n",
    "    ## accuracy = correct // total\n",
    "    print(\"Accuracy of the model is : \", round(acc, 2), \"%\")"
   ]
  },
  {
   "cell_type": "code",
   "execution_count": 40,
   "metadata": {},
   "outputs": [
    {
     "name": "stdout",
     "output_type": "stream",
     "text": [
      "[0.28905661 0.22422169 0.16859322 0.33638717 0.38000743 0.42083321\n",
      " 0.31740774 0.4136768  0.39273119 0.42178626        nan 0.28935134\n",
      " 0.63283852 0.1990645  0.39858145 0.42784062 0.30447413 0.36994253\n",
      " 0.33483577 0.23743109 0.33992282 0.43201105        nan 0.57329301\n",
      " 0.92283775 0.2263665  0.57255434 0.36052889 0.33228327        nan\n",
      " 0.2611051  0.43335537 0.33876374        nan 0.49729575 0.38586536\n",
      "        nan 0.3771488  0.35134316        nan 0.28258698        nan\n",
      " 0.25536179 0.34061818 0.3816977  0.34615179 0.30738817        nan\n",
      " 0.37123899 0.3086863  0.54459365 0.36360448 0.43298256 0.95280879\n",
      "        nan 0.50603397 0.28758781 0.34524906        nan 0.94392482\n",
      " 0.39655116 0.32678333 0.38958837 0.36638547 0.967825          nan\n",
      " 0.39240019 0.33456725 0.38930374 0.89646663 0.35399297 0.37095106\n",
      " 0.32542818 0.40265478 0.89207299 0.89700909        nan 0.23969001\n",
      " 0.33718038 0.35399297 0.49415361 0.79619101 0.27294168        nan\n",
      "        nan        nan 0.33606708 0.39428279        nan 0.55325577\n",
      " 0.38595977        nan 0.49832633        nan 0.41954497 0.34572753\n",
      " 0.28091695 0.32206881 0.38075903 0.29927572 0.40591195 0.39708949\n",
      "        nan 0.33956229 0.40699395 0.37629005 0.3694358         nan\n",
      "        nan 0.40985326 0.28119097        nan 0.37176447 0.38712398\n",
      " 0.81551969 0.41145948        nan 0.53569036 0.52303582 0.38783918\n",
      " 0.46670966        nan 0.46734    0.3258521         nan 0.42868091\n",
      " 0.36432043        nan 0.26879734 0.35271802 0.30498337 0.25992874\n",
      "        nan        nan 0.24532676 0.35206954 0.3359596  0.36179031\n",
      " 0.36246108 0.37783387 0.57186583 0.78428087 0.8922834  0.39339134\n",
      " 0.31383046 0.33470004        nan 0.36517522        nan 0.37739806\n",
      " 0.63935707        nan        nan 0.29729603 0.49484589 0.35106312\n",
      " 0.91821101 0.3618047  0.31383046 0.36206774        nan 0.48738835\n",
      " 0.36702485        nan 0.27415113 0.38782062 0.35622925 0.47766076\n",
      "        nan 0.37182751        nan 0.33294673 0.37595755        nan\n",
      " 0.3269324  0.52978296 0.48871233 0.33314097 0.38912329 0.36839446\n",
      " 0.33718038 0.54156442 0.56377099        nan 0.94469658 0.28842337\n",
      " 0.4249242  0.39154657        nan 0.27957079 0.35272059        nan\n",
      " 0.45301169 0.17800543 0.54960908 0.29868015 0.85330339 0.39333005\n",
      " 0.37222771        nan        nan 0.53051945 0.88004611 0.52754515\n",
      " 0.35966624        nan 0.28919215 0.36592418 0.37733166 0.34605588\n",
      " 0.35123663        nan 0.63507458 0.21490726 0.26410903 0.36567997\n",
      "        nan 0.69117614 0.84457183        nan 0.34202737 0.37147341\n",
      " 0.38219148 0.37061248 0.25993738        nan 0.35807442        nan\n",
      " 0.27859028 0.30189107 0.62525269 0.45055132 0.36353464        nan\n",
      " 0.48549179 0.37714783 0.33687563 0.37627421 0.41360578 0.55568264\n",
      " 0.2504067  0.30502944 0.66711849        nan        nan 0.40144487\n",
      " 0.418758   0.32494839 0.38783918        nan 0.58067917 0.37738923\n",
      " 0.77159126 0.35695397 0.30657716        nan        nan 0.32840766\n",
      " 0.41029084 0.37054207 0.30546612 0.3708102  0.37944163 0.51935416\n",
      " 0.3375383         nan        nan        nan        nan 0.39921684\n",
      " 0.45549356        nan 0.77898016        nan        nan 0.44700772\n",
      " 0.34118338 0.31658167 0.36091791 0.378575   0.36451768 0.52297845\n",
      "        nan 0.47770119 0.54163081 0.28017951        nan 0.62292891\n",
      "        nan        nan        nan 0.31527597        nan 0.42781642\n",
      " 0.28681205 0.33995555 0.62936775        nan 0.45452379 0.32184451\n",
      " 0.30413807        nan 0.28628617 0.3547501         nan 0.20167327\n",
      " 0.79273381 0.50929724 0.45612437 0.25276304 0.39274219 0.36365528\n",
      "        nan 0.2781911  0.61530143 0.39836532 0.63334045 0.39786019\n",
      " 0.33377358 0.44669511 0.33956229 0.34509169 0.36179031 0.368505\n",
      " 0.88038079 0.35559039 0.54464955 0.46977371 0.38420249 0.39358948\n",
      " 0.30859142 0.34300434        nan 0.41271222 0.33390785 0.38570424\n",
      " 0.32518898 0.26439481 0.43240454        nan 0.40436303 0.30353702\n",
      "        nan 0.9971384         nan 0.40588368 0.36179031 0.27343585\n",
      " 0.37608371 0.36088845 0.42303402 0.35966624 0.62877818 0.38918388\n",
      " 0.55475999 0.2676028  0.29141164        nan        nan 0.34142579\n",
      " 0.60974031 0.46064959 0.36088845 0.33638717 0.52657018        nan\n",
      "        nan 0.48038919 0.40907849 0.34729577 0.38565429 0.75080332\n",
      " 0.2047157  0.2582902  0.42494837 0.92954475 0.36541534 0.38840595\n",
      " 0.31133853 0.54883092        nan 0.33868857        nan 0.4130945\n",
      "        nan 0.56005052 0.35180739 0.19674035 0.36919647 0.50814986\n",
      " 0.66900607 0.30452034 0.46608796 0.23642723 0.35979909 0.58822152\n",
      " 0.34884186 0.45679888 0.36425052 0.30861237 0.82710721 0.31260948\n",
      " 0.56336976 0.54803394 0.31033808 0.40437942 0.36952141 0.84254692\n",
      "        nan 0.51160136        nan 0.56764375 0.33091654        nan\n",
      " 0.62593383 0.26673568        nan        nan]\n",
      "[[False False False False False False False False False False False False\n",
      "   True False False False False False False False False False False  True\n",
      "   True False  True False False False False False False False False False\n",
      "  False False False False False False False False False False False False\n",
      "  False False  True False False  True False  True False False False  True\n",
      "  False False False False  True False False False False  True False False\n",
      "  False False  True  True False False False False False  True False False\n",
      "  False False False False False  True False False False False False False\n",
      "  False False False False False False False False False False False False\n",
      "  False False False False False False  True False False  True  True False\n",
      "  False False False False False False False False False False False False\n",
      "  False False False False False False False False  True  True  True False\n",
      "  False False False False False False  True False False False False False\n",
      "   True False False False False False False False False False False False\n",
      "  False False False False False False False  True False False False False\n",
      "  False  True  True False  True False False False False False False False\n",
      "  False False  True False  True False False False False  True  True  True\n",
      "  False False False False False False False False  True False False False\n",
      "  False  True  True False False False False False False False False False\n",
      "  False False  True False False False False False False False False  True\n",
      "  False False  True False False False False False False False  True False\n",
      "   True False False False False False False False False False False  True\n",
      "  False False False False False False False False  True False False False\n",
      "  False False False False False  True False False  True False False  True\n",
      "  False False False False False False False False  True False False False\n",
      "  False False False False False False  True  True False False False False\n",
      "  False False  True False  True False False False False False False False\n",
      "   True False  True False False False False False False False False False\n",
      "  False False False False False False False  True False False False False\n",
      "  False False False False  True False  True False False False False False\n",
      "   True False False False  True False False False False False False  True\n",
      "  False False False  True False False False  True False False False False\n",
      "  False  True False False False  True  True False False False False  True\n",
      "  False False False False  True False  True  True False False False  True\n",
      "  False  True False  True False False  True False False False]]\n",
      "[[0 0 0 0 0 0 0 0 0 0 0 0 1 0 0 0 0 0 0 0 0 0 0 1 1 0 1 0 0 0 0 0 0 0 0 0\n",
      "  0 0 0 0 0 0 0 0 0 0 0 0 0 0 1 0 0 1 0 1 0 0 0 1 0 0 0 0 1 0 0 0 0 1 0 0\n",
      "  0 0 1 1 0 0 0 0 0 1 0 0 0 0 0 0 0 1 0 0 0 0 0 0 0 0 0 0 0 0 0 0 0 0 0 0\n",
      "  0 0 0 0 0 0 1 0 0 1 1 0 0 0 0 0 0 0 0 0 0 0 0 0 0 0 0 0 0 0 0 0 1 1 1 0\n",
      "  0 0 0 0 0 0 1 0 0 0 0 0 1 0 0 0 0 0 0 0 0 0 0 0 0 0 0 0 0 0 0 1 0 0 0 0\n",
      "  0 1 1 0 1 0 0 0 0 0 0 0 0 0 1 0 1 0 0 0 0 1 1 1 0 0 0 0 0 0 0 0 1 0 0 0\n",
      "  0 1 1 0 0 0 0 0 0 0 0 0 0 0 1 0 0 0 0 0 0 0 0 1 0 0 1 0 0 0 0 0 0 0 1 0\n",
      "  1 0 0 0 0 0 0 0 0 0 0 1 0 0 0 0 0 0 0 0 1 0 0 0 0 0 0 0 0 1 0 0 1 0 0 1\n",
      "  0 0 0 0 0 0 0 0 1 0 0 0 0 0 0 0 0 0 1 1 0 0 0 0 0 0 1 0 1 0 0 0 0 0 0 0\n",
      "  1 0 1 0 0 0 0 0 0 0 0 0 0 0 0 0 0 0 0 1 0 0 0 0 0 0 0 0 1 0 1 0 0 0 0 0\n",
      "  1 0 0 0 1 0 0 0 0 0 0 1 0 0 0 1 0 0 0 1 0 0 0 0 0 1 0 0 0 1 1 0 0 0 0 1\n",
      "  0 0 0 0 1 0 1 1 0 0 0 1 0 1 0 1 0 0 1 0 0 0]]\n",
      "Accuracy of the model is :  65.55 %\n"
     ]
    }
   ],
   "source": [
    "accuracy(X_test, y_test, W, B)"
   ]
  },
  {
   "cell_type": "code",
   "execution_count": null,
   "metadata": {},
   "outputs": [],
   "source": []
  }
 ],
 "metadata": {
  "kernelspec": {
   "display_name": "Python 3",
   "language": "python",
   "name": "python3"
  },
  "language_info": {
   "codemirror_mode": {
    "name": "ipython",
    "version": 3
   },
   "file_extension": ".py",
   "mimetype": "text/x-python",
   "name": "python",
   "nbconvert_exporter": "python",
   "pygments_lexer": "ipython3",
   "version": "3.12.0"
  }
 },
 "nbformat": 4,
 "nbformat_minor": 2
}
