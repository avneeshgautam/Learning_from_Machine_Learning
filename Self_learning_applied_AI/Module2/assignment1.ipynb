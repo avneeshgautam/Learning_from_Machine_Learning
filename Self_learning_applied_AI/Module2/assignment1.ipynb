{
 "cells": [
  {
   "cell_type": "markdown",
   "metadata": {},
   "source": [
    "# (3.12) Exercise:\n",
    "\n",
    "1. Download Haberman Cancer Survival dataset from Kaggle. You may have to create a Kaggle account to donwload data. (https://www.kaggle.com/gilsousa/habermans-survival-data-set)\n",
    "2. Perform a similar alanlaysis as above on this dataset with the following sections:\n",
    "* High level statistics of the dataset: number of points, numer of   features, number of classes, data-points per class.\n",
    "* Explain our objective. \n",
    "* Perform Univaraite analysis(PDF, CDF, Boxplot, Voilin plots) to understand which features are useful towards classification.\n",
    "* Perform Bi-variate analysis (scatter plots, pair-plots) to see if combinations of features are useful in classfication.\n",
    "* Write your observations in english as crisply and unambigously as possible. Always quantify your results."
   ]
  },
  {
   "cell_type": "code",
   "execution_count": null,
   "metadata": {},
   "outputs": [],
   "source": []
  }
 ],
 "metadata": {
  "language_info": {
   "name": "python"
  }
 },
 "nbformat": 4,
 "nbformat_minor": 2
}
