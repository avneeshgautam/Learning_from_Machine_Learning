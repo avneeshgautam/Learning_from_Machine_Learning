{
 "cells": [
  {
   "cell_type": "code",
   "execution_count": 2,
   "metadata": {},
   "outputs": [],
   "source": [
    "import numpy as np\n",
    "import pandas as pd\n",
    "import matplotlib.pyplot as plt"
   ]
  },
  {
   "cell_type": "code",
   "execution_count": 3,
   "metadata": {},
   "outputs": [],
   "source": [
    "X = [[2,4,6,8,10],[3,6,9,12,15],[9,7,5,3,1]]\n"
   ]
  },
  {
   "cell_type": "code",
   "execution_count": 4,
   "metadata": {},
   "outputs": [
    {
     "data": {
      "text/html": [
       "<div>\n",
       "<style scoped>\n",
       "    .dataframe tbody tr th:only-of-type {\n",
       "        vertical-align: middle;\n",
       "    }\n",
       "\n",
       "    .dataframe tbody tr th {\n",
       "        vertical-align: top;\n",
       "    }\n",
       "\n",
       "    .dataframe thead th {\n",
       "        text-align: right;\n",
       "    }\n",
       "</style>\n",
       "<table border=\"1\" class=\"dataframe\">\n",
       "  <thead>\n",
       "    <tr style=\"text-align: right;\">\n",
       "      <th></th>\n",
       "      <th>0</th>\n",
       "      <th>1</th>\n",
       "      <th>2</th>\n",
       "      <th>3</th>\n",
       "      <th>4</th>\n",
       "    </tr>\n",
       "  </thead>\n",
       "  <tbody>\n",
       "    <tr>\n",
       "      <th>0</th>\n",
       "      <td>2</td>\n",
       "      <td>4</td>\n",
       "      <td>6</td>\n",
       "      <td>8</td>\n",
       "      <td>10</td>\n",
       "    </tr>\n",
       "    <tr>\n",
       "      <th>1</th>\n",
       "      <td>3</td>\n",
       "      <td>6</td>\n",
       "      <td>9</td>\n",
       "      <td>12</td>\n",
       "      <td>15</td>\n",
       "    </tr>\n",
       "    <tr>\n",
       "      <th>2</th>\n",
       "      <td>9</td>\n",
       "      <td>7</td>\n",
       "      <td>5</td>\n",
       "      <td>3</td>\n",
       "      <td>1</td>\n",
       "    </tr>\n",
       "  </tbody>\n",
       "</table>\n",
       "</div>"
      ],
      "text/plain": [
       "   0  1  2   3   4\n",
       "0  2  4  6   8  10\n",
       "1  3  6  9  12  15\n",
       "2  9  7  5   3   1"
      ]
     },
     "execution_count": 4,
     "metadata": {},
     "output_type": "execute_result"
    }
   ],
   "source": [
    "data = pd.DataFrame(X)\n",
    "data"
   ]
  },
  {
   "cell_type": "code",
   "execution_count": 5,
   "metadata": {},
   "outputs": [
    {
     "data": {
      "text/plain": [
       "(3, 5)"
      ]
     },
     "execution_count": 5,
     "metadata": {},
     "output_type": "execute_result"
    }
   ],
   "source": [
    "data.shape"
   ]
  },
  {
   "cell_type": "code",
   "execution_count": 10,
   "metadata": {},
   "outputs": [
    {
     "name": "stdout",
     "output_type": "stream",
     "text": [
      "mean of x : 6.0\n",
      "mean of y : 5.0\n",
      "mean of z : 5.0\n"
     ]
    }
   ],
   "source": [
    "x_ = sum(data.iloc[0]) / data.iloc[0].shape[0]\n",
    "y_ = sum(data.iloc[1]) / data.iloc[1].shape[0]\n",
    "z_ = sum(data.iloc[2]) / data.iloc[2].shape[0]\n",
    "\n",
    "print(\"mean of x :\", x_)\n",
    "print(\"mean of y :\", z_)\n",
    "print(\"mean of z :\", z_)"
   ]
  },
  {
   "cell_type": "markdown",
   "metadata": {},
   "source": [
    "## variance"
   ]
  },
  {
   "cell_type": "code",
   "execution_count": 14,
   "metadata": {},
   "outputs": [
    {
     "name": "stdout",
     "output_type": "stream",
     "text": [
      "variance of x:  8.0\n",
      "variance of y:  18.0\n",
      "variance of z:  8.0\n"
     ]
    }
   ],
   "source": [
    "var_x = 0\n",
    "for i in data.iloc[0]:\n",
    "    var_x += (i-x_)**2\n",
    "\n",
    "var_x /= (data.iloc[0].shape[0])\n",
    "\n",
    "var_y = 0\n",
    "for i in data.iloc[1]:\n",
    "    var_y += (i-y_)**2\n",
    "\n",
    "var_y /= (data.iloc[1].shape[0])\n",
    "\n",
    "var_z = 0\n",
    "for i in data.iloc[2]:\n",
    "    var_z += (i-z_)**2\n",
    "\n",
    "var_z /= (data.iloc[1].shape[0])\n",
    "\n",
    "print(\"variance of x: \",var_x)\n",
    "print(\"variance of y: \",var_y)\n",
    "print(\"variance of z: \",var_z)"
   ]
  },
  {
   "cell_type": "markdown",
   "metadata": {},
   "source": [
    "## co-variance"
   ]
  },
  {
   "cell_type": "code",
   "execution_count": 33,
   "metadata": {},
   "outputs": [
    {
     "name": "stdout",
     "output_type": "stream",
     "text": [
      "cov(x,y) = cov(y,x) :  12.0\n",
      "cov(x,z) = cov(z,x) :  -8.0\n",
      "cov(y,z) = cov(z,y) :  -12.0\n"
     ]
    }
   ],
   "source": [
    "cov_x_y = 0\n",
    "for i in range(data.iloc[0].shape[0]):\n",
    "    cov_x_y += (data.iloc[0][i] - x_) * (data.iloc[1][i] - y_) \n",
    "cov_x_y /= data.iloc[0].shape[0]\n",
    "\n",
    "cov_x_z = 0\n",
    "for i in range(data.iloc[0].shape[0]):\n",
    "    cov_x_z += (data.iloc[0][i] - x_) * (data.iloc[2][i] - z_) \n",
    "cov_x_z /= data.iloc[0].shape[0]\n",
    "\n",
    "cov_y_z = 0\n",
    "for i in range(data.iloc[0].shape[0]):\n",
    "    cov_y_z += (data.iloc[1][i] - y_) * (data.iloc[2][i] - z_) \n",
    "cov_y_z /= data.iloc[0].shape[0]\n",
    "\n",
    "cov_y_x = cov_x_y\n",
    "cov_z_x = cov_x_z\n",
    "cov_z_y = cov_y_z\n",
    "\n",
    "print(\"cov(x,y) = cov(y,x) : \",cov_x_y)\n",
    "print(\"cov(x,z) = cov(z,x) : \",cov_x_z)\n",
    "print(\"cov(y,z) = cov(z,y) : \",cov_y_z)\n"
   ]
  },
  {
   "cell_type": "markdown",
   "metadata": {},
   "source": [
    "### CO-VARIANCE MATRIX"
   ]
  },
  {
   "cell_type": "code",
   "execution_count": 44,
   "metadata": {},
   "outputs": [
    {
     "data": {
      "text/plain": [
       "[[8.0, 12.0, -8.0], [12.0, 18.0, -12.0], [-8.0, -12.0, 8.0]]"
      ]
     },
     "execution_count": 44,
     "metadata": {},
     "output_type": "execute_result"
    }
   ],
   "source": [
    "covar_matrix = [[var_x,cov_x_y,cov_x_z],[cov_y_x, var_y, cov_y_z],[cov_z_x, cov_z_y, var_z]]\n",
    "covar_matrix"
   ]
  },
  {
   "cell_type": "code",
   "execution_count": 46,
   "metadata": {},
   "outputs": [],
   "source": [
    "from numpy import linalg as LA\n",
    "# computing top two eigen vector\n",
    "eigenvalues, eigenvectors = LA.eig(covar_matrix)"
   ]
  },
  {
   "cell_type": "code",
   "execution_count": 48,
   "metadata": {},
   "outputs": [
    {
     "data": {
      "text/plain": [
       "34.0"
      ]
     },
     "execution_count": 48,
     "metadata": {},
     "output_type": "execute_result"
    }
   ],
   "source": [
    "eigenvalues[0]"
   ]
  },
  {
   "cell_type": "code",
   "execution_count": 53,
   "metadata": {},
   "outputs": [
    {
     "data": {
      "text/plain": [
       "array([ 0.48507125,  0.72760688, -0.48507125])"
      ]
     },
     "execution_count": 53,
     "metadata": {},
     "output_type": "execute_result"
    }
   ],
   "source": [
    "eigenvectors = eigenvectors.T\n",
    "eigenvectors[0]"
   ]
  },
  {
   "cell_type": "code",
   "execution_count": null,
   "metadata": {},
   "outputs": [],
   "source": [
    "uni"
   ]
  }
 ],
 "metadata": {
  "kernelspec": {
   "display_name": "Python 3",
   "language": "python",
   "name": "python3"
  },
  "language_info": {
   "codemirror_mode": {
    "name": "ipython",
    "version": 3
   },
   "file_extension": ".py",
   "mimetype": "text/x-python",
   "name": "python",
   "nbconvert_exporter": "python",
   "pygments_lexer": "ipython3",
   "version": "3.12.0"
  }
 },
 "nbformat": 4,
 "nbformat_minor": 2
}
