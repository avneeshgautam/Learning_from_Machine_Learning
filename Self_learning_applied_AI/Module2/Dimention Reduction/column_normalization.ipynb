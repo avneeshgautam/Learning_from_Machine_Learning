{
 "cells": [
  {
   "cell_type": "code",
   "execution_count": 13,
   "metadata": {},
   "outputs": [
    {
     "name": "stdout",
     "output_type": "stream",
     "text": [
      "1 21\n"
     ]
    }
   ],
   "source": [
    "x = [[1,2,3],[3,2,15],[1,18,21]]\n",
    "\n",
    "mini = float('inf')\n",
    "maxi = float('-inf')\n",
    "\n",
    "for i in x:\n",
    "    for j in i:\n",
    "        if j<mini:\n",
    "            mini = j\n",
    "        \n",
    "        if j>maxi:\n",
    "            maxi = j\n",
    "\n",
    "print(mini,maxi)"
   ]
  },
  {
   "cell_type": "code",
   "execution_count": 16,
   "metadata": {},
   "outputs": [
    {
     "data": {
      "text/plain": [
       "[[0.0, 0.85, 1.0], [0.0, 0.85, 1.0], [0.0, 0.85, 1.0]]"
      ]
     },
     "execution_count": 16,
     "metadata": {},
     "output_type": "execute_result"
    }
   ],
   "source": [
    "new  = [[0]*3]*3\n",
    "\n",
    "for i in range(3):\n",
    "    for j in range(3):\n",
    "        new[i][j] = (x[i][j] - mini) /(maxi-mini)\n",
    "\n",
    "new"
   ]
  },
  {
   "cell_type": "code",
   "execution_count": null,
   "metadata": {},
   "outputs": [],
   "source": []
  },
  {
   "cell_type": "code",
   "execution_count": null,
   "metadata": {},
   "outputs": [],
   "source": []
  }
 ],
 "metadata": {
  "kernelspec": {
   "display_name": "Python 3",
   "language": "python",
   "name": "python3"
  },
  "language_info": {
   "codemirror_mode": {
    "name": "ipython",
    "version": 3
   },
   "file_extension": ".py",
   "mimetype": "text/x-python",
   "name": "python",
   "nbconvert_exporter": "python",
   "pygments_lexer": "ipython3",
   "version": "3.12.0"
  }
 },
 "nbformat": 4,
 "nbformat_minor": 2
}
