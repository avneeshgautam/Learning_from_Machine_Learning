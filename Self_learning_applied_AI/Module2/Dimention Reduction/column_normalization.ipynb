{
 "cells": [
  {
   "cell_type": "code",
   "execution_count": 4,
   "metadata": {},
   "outputs": [
    {
     "name": "stdout",
     "output_type": "stream",
     "text": [
      "1 21\n"
     ]
    }
   ],
   "source": [
    "x = [[1,2,3],[3,2,15],[1,18,21]]\n",
    "\n",
    "mini = float('inf')\n",
    "maxi = float('-inf')\n",
    "\n",
    "for i in x:\n",
    "    for j in i:\n",
    "        if j<mini:\n",
    "            mini = j\n",
    "        \n",
    "        if j>maxi:\n",
    "            maxi = j\n",
    "\n",
    "print(mini,maxi)"
   ]
  },
  {
   "cell_type": "code",
   "execution_count": 5,
   "metadata": {},
   "outputs": [
    {
     "data": {
      "text/plain": [
       "[[0.0, 0.85, 1.0], [0.0, 0.85, 1.0], [0.0, 0.85, 1.0]]"
      ]
     },
     "execution_count": 5,
     "metadata": {},
     "output_type": "execute_result"
    }
   ],
   "source": [
    "new  = [[0]*3]*3\n",
    "\n",
    "for i in range(3):\n",
    "    for j in range(3):\n",
    "        new[i][j] = (x[i][j] - mini) /(maxi-mini)\n",
    "\n",
    "new"
   ]
  },
  {
   "cell_type": "markdown",
   "metadata": {},
   "source": []
  },
  {
   "cell_type": "markdown",
   "metadata": {},
   "source": [
    "## column standardlization"
   ]
  },
  {
   "cell_type": "code",
   "execution_count": 6,
   "metadata": {},
   "outputs": [
    {
     "data": {
      "text/plain": [
       "(8.0, 8.5)"
      ]
     },
     "execution_count": 6,
     "metadata": {},
     "output_type": "execute_result"
    }
   ],
   "source": [
    "X = [[4,8,13,7],[11,4,5,14]]\n",
    "mean_x1 = sum(X[0]) / len(X[0])\n",
    "mean_x2 = sum(X[1]) / len(X[1])\n",
    "mean_x1, mean_x2"
   ]
  },
  {
   "cell_type": "code",
   "execution_count": 11,
   "metadata": {},
   "outputs": [
    {
     "data": {
      "text/plain": [
       "(14.0, 23.0)"
      ]
     },
     "execution_count": 11,
     "metadata": {},
     "output_type": "execute_result"
    }
   ],
   "source": [
    "import numpy as np \n",
    "\n",
    "var_x1 = (np.var(X[0]))*4 // 3\n",
    "var_x2 = np.var(X[1])*4 // 3\n",
    "\n",
    "var_x1, var_x2"
   ]
  },
  {
   "cell_type": "code",
   "execution_count": 13,
   "metadata": {},
   "outputs": [
    {
     "data": {
      "text/plain": [
       "array([[ 14., -11.],\n",
       "       [-11.,  23.]])"
      ]
     },
     "execution_count": 13,
     "metadata": {},
     "output_type": "execute_result"
    }
   ],
   "source": [
    "np.cov(X)"
   ]
  },
  {
   "cell_type": "code",
   "execution_count": 14,
   "metadata": {},
   "outputs": [],
   "source": [
    "from sklearn.preprocessing import StandardScaler   \n",
    "standardized_data = StandardScaler().fit_transform(X)    "
   ]
  },
  {
   "cell_type": "code",
   "execution_count": 15,
   "metadata": {},
   "outputs": [
    {
     "data": {
      "text/plain": [
       "array([[-1.,  1.,  1., -1.],\n",
       "       [ 1., -1., -1.,  1.]])"
      ]
     },
     "execution_count": 15,
     "metadata": {},
     "output_type": "execute_result"
    }
   ],
   "source": [
    "standardized_data"
   ]
  },
  {
   "cell_type": "code",
   "execution_count": 17,
   "metadata": {},
   "outputs": [
    {
     "data": {
      "text/plain": [
       "array([[ 1.33333333, -1.33333333],\n",
       "       [-1.33333333,  1.33333333]])"
      ]
     },
     "execution_count": 17,
     "metadata": {},
     "output_type": "execute_result"
    }
   ],
   "source": [
    "covar_mat = np.cov(standardized_data)\n",
    "covar_mat"
   ]
  },
  {
   "cell_type": "code",
   "execution_count": 24,
   "metadata": {},
   "outputs": [
    {
     "data": {
      "text/plain": [
       "array([[ 1.33333333, -1.33333333],\n",
       "       [-1.33333333,  1.33333333]])"
      ]
     },
     "execution_count": 24,
     "metadata": {},
     "output_type": "execute_result"
    }
   ],
   "source": [
    "co_var_matrix = np.matmul(standardized_data, standardized_data.T) /3\n",
    "co_var_matrix"
   ]
  },
  {
   "cell_type": "code",
   "execution_count": null,
   "metadata": {},
   "outputs": [],
   "source": []
  }
 ],
 "metadata": {
  "kernelspec": {
   "display_name": "Python 3",
   "language": "python",
   "name": "python3"
  },
  "language_info": {
   "codemirror_mode": {
    "name": "ipython",
    "version": 3
   },
   "file_extension": ".py",
   "mimetype": "text/x-python",
   "name": "python",
   "nbconvert_exporter": "python",
   "pygments_lexer": "ipython3",
   "version": "3.12.0"
  }
 },
 "nbformat": 4,
 "nbformat_minor": 2
}
