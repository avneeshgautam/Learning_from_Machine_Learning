{
 "cells": [
  {
   "cell_type": "code",
   "execution_count": 5,
   "metadata": {},
   "outputs": [],
   "source": [
    "%matplotlib inline\n",
    "import warnings\n",
    "warnings.filterwarnings(\"ignore\")\n",
    "\n",
    "import sqlite3\n",
    "import pandas as pd\n",
    "import numpy as np\n",
    "import nltk\n",
    "import string\n",
    "import matplotlib.pyplot as plt\n",
    "import seaborn as sns\n",
    "from sklearn.feature_extraction.text import TfidfTransformer\n",
    "from sklearn.feature_extraction.text import TfidfVectorizer\n",
    "\n",
    "from sklearn.feature_extraction.text import CountVectorizer\n",
    "from sklearn.metrics import confusion_matrix\n",
    "from sklearn import metrics\n",
    "from sklearn.metrics import roc_curve, auc\n",
    "from nltk.stem.porter import PorterStemmer\n",
    "\n",
    "import re\n",
    "import string\n",
    "from nltk.corpus import stopwords\n",
    "from nltk.stem import PorterStemmer\n",
    "from nltk.stem.wordnet import WordNetLemmatizer\n",
    "import gensim\n",
    "from gensim.models import Word2Vec\n",
    "from gensim.models import KeyedVectors\n",
    "import pickle\n",
    "\n",
    "from tqdm import tqdm\n",
    "import os"
   ]
  },
  {
   "cell_type": "code",
   "execution_count": 6,
   "metadata": {},
   "outputs": [
    {
     "data": {
      "text/plain": [
       "(525814, 10)"
      ]
     },
     "execution_count": 6,
     "metadata": {},
     "output_type": "execute_result"
    }
   ],
   "source": [
    "# con = sqlite3.connect('../Module3/Amazon_food_review.ipynb')\n",
    "con = sqlite3.connect('/Users/avneeshgautam29/Placement_learning/Machine Learning/Learning_from_Machine_Learning/Self_learning_applied_AI/Module3/amazon_dataset/database.sqlite')\n",
    "filtered_data = pd.read_sql_query(\"\"\" Select * from Reviews Where Score !=3 \"\"\",con)\n",
    "filtered_data.shape"
   ]
  },
  {
   "cell_type": "code",
   "execution_count": 7,
   "metadata": {},
   "outputs": [
    {
     "name": "stdout",
     "output_type": "stream",
     "text": [
      "Number of data points in our data (525814, 10)\n"
     ]
    },
    {
     "data": {
      "text/html": [
       "<div>\n",
       "<style scoped>\n",
       "    .dataframe tbody tr th:only-of-type {\n",
       "        vertical-align: middle;\n",
       "    }\n",
       "\n",
       "    .dataframe tbody tr th {\n",
       "        vertical-align: top;\n",
       "    }\n",
       "\n",
       "    .dataframe thead th {\n",
       "        text-align: right;\n",
       "    }\n",
       "</style>\n",
       "<table border=\"1\" class=\"dataframe\">\n",
       "  <thead>\n",
       "    <tr style=\"text-align: right;\">\n",
       "      <th></th>\n",
       "      <th>Id</th>\n",
       "      <th>ProductId</th>\n",
       "      <th>UserId</th>\n",
       "      <th>ProfileName</th>\n",
       "      <th>HelpfulnessNumerator</th>\n",
       "      <th>HelpfulnessDenominator</th>\n",
       "      <th>Score</th>\n",
       "      <th>Time</th>\n",
       "      <th>Summary</th>\n",
       "      <th>Text</th>\n",
       "    </tr>\n",
       "  </thead>\n",
       "  <tbody>\n",
       "    <tr>\n",
       "      <th>0</th>\n",
       "      <td>1</td>\n",
       "      <td>B001E4KFG0</td>\n",
       "      <td>A3SGXH7AUHU8GW</td>\n",
       "      <td>delmartian</td>\n",
       "      <td>1</td>\n",
       "      <td>1</td>\n",
       "      <td>positive</td>\n",
       "      <td>1303862400</td>\n",
       "      <td>Good Quality Dog Food</td>\n",
       "      <td>I have bought several of the Vitality canned d...</td>\n",
       "    </tr>\n",
       "  </tbody>\n",
       "</table>\n",
       "</div>"
      ],
      "text/plain": [
       "   Id   ProductId          UserId ProfileName  HelpfulnessNumerator  \\\n",
       "0   1  B001E4KFG0  A3SGXH7AUHU8GW  delmartian                     1   \n",
       "\n",
       "   HelpfulnessDenominator     Score        Time                Summary  \\\n",
       "0                       1  positive  1303862400  Good Quality Dog Food   \n",
       "\n",
       "                                                Text  \n",
       "0  I have bought several of the Vitality canned d...  "
      ]
     },
     "execution_count": 7,
     "metadata": {},
     "output_type": "execute_result"
    }
   ],
   "source": [
    "def partition(x):\n",
    "    if x>3:\n",
    "        return \"positive\"\n",
    "    else:\n",
    "        return \"negative\"\n",
    "\n",
    "\n",
    "actualScore = filtered_data['Score']\n",
    "positiveNegative = actualScore.map(partition)\n",
    "filtered_data['Score'] = positiveNegative\n",
    "print(\"Number of data points in our data\", filtered_data.shape)\n",
    "filtered_data.head(1)"
   ]
  },
  {
   "cell_type": "code",
   "execution_count": 8,
   "metadata": {},
   "outputs": [],
   "source": [
    "display = pd.read_sql_query(\"\"\"\n",
    "SELECT UserId, ProductId, ProfileName, Time, Score, Text, COUNT(*)\n",
    "FROM Reviews\n",
    "GROUP BY UserId\n",
    "HAVING COUNT(*)>1\n",
    "\"\"\", con)"
   ]
  },
  {
   "cell_type": "code",
   "execution_count": 9,
   "metadata": {},
   "outputs": [
    {
     "data": {
      "text/html": [
       "<div>\n",
       "<style scoped>\n",
       "    .dataframe tbody tr th:only-of-type {\n",
       "        vertical-align: middle;\n",
       "    }\n",
       "\n",
       "    .dataframe tbody tr th {\n",
       "        vertical-align: top;\n",
       "    }\n",
       "\n",
       "    .dataframe thead th {\n",
       "        text-align: right;\n",
       "    }\n",
       "</style>\n",
       "<table border=\"1\" class=\"dataframe\">\n",
       "  <thead>\n",
       "    <tr style=\"text-align: right;\">\n",
       "      <th></th>\n",
       "      <th>UserId</th>\n",
       "      <th>ProductId</th>\n",
       "      <th>ProfileName</th>\n",
       "      <th>Time</th>\n",
       "      <th>Score</th>\n",
       "      <th>Text</th>\n",
       "      <th>COUNT(*)</th>\n",
       "    </tr>\n",
       "  </thead>\n",
       "  <tbody>\n",
       "    <tr>\n",
       "      <th>0</th>\n",
       "      <td>#oc-R115TNMSPFT9I7</td>\n",
       "      <td>B005ZBZLT4</td>\n",
       "      <td>Breyton</td>\n",
       "      <td>1331510400</td>\n",
       "      <td>2</td>\n",
       "      <td>Overall its just OK when considering the price...</td>\n",
       "      <td>2</td>\n",
       "    </tr>\n",
       "    <tr>\n",
       "      <th>1</th>\n",
       "      <td>#oc-R11D9D7SHXIJB9</td>\n",
       "      <td>B005HG9ESG</td>\n",
       "      <td>Louis E. Emory \"hoppy\"</td>\n",
       "      <td>1342396800</td>\n",
       "      <td>5</td>\n",
       "      <td>My wife has recurring extreme muscle spasms, u...</td>\n",
       "      <td>3</td>\n",
       "    </tr>\n",
       "    <tr>\n",
       "      <th>2</th>\n",
       "      <td>#oc-R11DNU2NBKQ23Z</td>\n",
       "      <td>B005ZBZLT4</td>\n",
       "      <td>Kim Cieszykowski</td>\n",
       "      <td>1348531200</td>\n",
       "      <td>1</td>\n",
       "      <td>This coffee is horrible and unfortunately not ...</td>\n",
       "      <td>2</td>\n",
       "    </tr>\n",
       "    <tr>\n",
       "      <th>3</th>\n",
       "      <td>#oc-R11O5J5ZVQE25C</td>\n",
       "      <td>B005HG9ESG</td>\n",
       "      <td>Penguin Chick</td>\n",
       "      <td>1346889600</td>\n",
       "      <td>5</td>\n",
       "      <td>This will be the bottle that you grab from the...</td>\n",
       "      <td>3</td>\n",
       "    </tr>\n",
       "    <tr>\n",
       "      <th>4</th>\n",
       "      <td>#oc-R12KPBODL2B5ZD</td>\n",
       "      <td>B007OSBEV0</td>\n",
       "      <td>Christopher P. Presta</td>\n",
       "      <td>1348617600</td>\n",
       "      <td>1</td>\n",
       "      <td>I didnt like this coffee. Instead of telling y...</td>\n",
       "      <td>2</td>\n",
       "    </tr>\n",
       "  </tbody>\n",
       "</table>\n",
       "</div>"
      ],
      "text/plain": [
       "               UserId   ProductId             ProfileName        Time  Score  \\\n",
       "0  #oc-R115TNMSPFT9I7  B005ZBZLT4                 Breyton  1331510400      2   \n",
       "1  #oc-R11D9D7SHXIJB9  B005HG9ESG  Louis E. Emory \"hoppy\"  1342396800      5   \n",
       "2  #oc-R11DNU2NBKQ23Z  B005ZBZLT4        Kim Cieszykowski  1348531200      1   \n",
       "3  #oc-R11O5J5ZVQE25C  B005HG9ESG           Penguin Chick  1346889600      5   \n",
       "4  #oc-R12KPBODL2B5ZD  B007OSBEV0   Christopher P. Presta  1348617600      1   \n",
       "\n",
       "                                                Text  COUNT(*)  \n",
       "0  Overall its just OK when considering the price...         2  \n",
       "1  My wife has recurring extreme muscle spasms, u...         3  \n",
       "2  This coffee is horrible and unfortunately not ...         2  \n",
       "3  This will be the bottle that you grab from the...         3  \n",
       "4  I didnt like this coffee. Instead of telling y...         2  "
      ]
     },
     "execution_count": 9,
     "metadata": {},
     "output_type": "execute_result"
    }
   ],
   "source": [
    "display.head(5)"
   ]
  },
  {
   "cell_type": "code",
   "execution_count": null,
   "metadata": {},
   "outputs": [],
   "source": []
  },
  {
   "cell_type": "markdown",
   "metadata": {},
   "source": [
    "## Data Clearning"
   ]
  },
  {
   "cell_type": "code",
   "execution_count": 10,
   "metadata": {},
   "outputs": [
    {
     "data": {
      "text/html": [
       "<div>\n",
       "<style scoped>\n",
       "    .dataframe tbody tr th:only-of-type {\n",
       "        vertical-align: middle;\n",
       "    }\n",
       "\n",
       "    .dataframe tbody tr th {\n",
       "        vertical-align: top;\n",
       "    }\n",
       "\n",
       "    .dataframe thead th {\n",
       "        text-align: right;\n",
       "    }\n",
       "</style>\n",
       "<table border=\"1\" class=\"dataframe\">\n",
       "  <thead>\n",
       "    <tr style=\"text-align: right;\">\n",
       "      <th></th>\n",
       "      <th>Id</th>\n",
       "      <th>ProductId</th>\n",
       "      <th>UserId</th>\n",
       "      <th>ProfileName</th>\n",
       "      <th>HelpfulnessNumerator</th>\n",
       "      <th>HelpfulnessDenominator</th>\n",
       "      <th>Score</th>\n",
       "      <th>Time</th>\n",
       "      <th>Summary</th>\n",
       "      <th>Text</th>\n",
       "    </tr>\n",
       "  </thead>\n",
       "  <tbody>\n",
       "    <tr>\n",
       "      <th>0</th>\n",
       "      <td>78445</td>\n",
       "      <td>B000HDL1RQ</td>\n",
       "      <td>AR5J8UI46CURR</td>\n",
       "      <td>Geetha Krishnan</td>\n",
       "      <td>2</td>\n",
       "      <td>2</td>\n",
       "      <td>5</td>\n",
       "      <td>1199577600</td>\n",
       "      <td>LOACKER QUADRATINI VANILLA WAFERS</td>\n",
       "      <td>DELICIOUS WAFERS. I FIND THAT EUROPEAN WAFERS ...</td>\n",
       "    </tr>\n",
       "    <tr>\n",
       "      <th>1</th>\n",
       "      <td>138317</td>\n",
       "      <td>B000HDOPYC</td>\n",
       "      <td>AR5J8UI46CURR</td>\n",
       "      <td>Geetha Krishnan</td>\n",
       "      <td>2</td>\n",
       "      <td>2</td>\n",
       "      <td>5</td>\n",
       "      <td>1199577600</td>\n",
       "      <td>LOACKER QUADRATINI VANILLA WAFERS</td>\n",
       "      <td>DELICIOUS WAFERS. I FIND THAT EUROPEAN WAFERS ...</td>\n",
       "    </tr>\n",
       "    <tr>\n",
       "      <th>2</th>\n",
       "      <td>138277</td>\n",
       "      <td>B000HDOPYM</td>\n",
       "      <td>AR5J8UI46CURR</td>\n",
       "      <td>Geetha Krishnan</td>\n",
       "      <td>2</td>\n",
       "      <td>2</td>\n",
       "      <td>5</td>\n",
       "      <td>1199577600</td>\n",
       "      <td>LOACKER QUADRATINI VANILLA WAFERS</td>\n",
       "      <td>DELICIOUS WAFERS. I FIND THAT EUROPEAN WAFERS ...</td>\n",
       "    </tr>\n",
       "    <tr>\n",
       "      <th>3</th>\n",
       "      <td>73791</td>\n",
       "      <td>B000HDOPZG</td>\n",
       "      <td>AR5J8UI46CURR</td>\n",
       "      <td>Geetha Krishnan</td>\n",
       "      <td>2</td>\n",
       "      <td>2</td>\n",
       "      <td>5</td>\n",
       "      <td>1199577600</td>\n",
       "      <td>LOACKER QUADRATINI VANILLA WAFERS</td>\n",
       "      <td>DELICIOUS WAFERS. I FIND THAT EUROPEAN WAFERS ...</td>\n",
       "    </tr>\n",
       "    <tr>\n",
       "      <th>4</th>\n",
       "      <td>155049</td>\n",
       "      <td>B000PAQ75C</td>\n",
       "      <td>AR5J8UI46CURR</td>\n",
       "      <td>Geetha Krishnan</td>\n",
       "      <td>2</td>\n",
       "      <td>2</td>\n",
       "      <td>5</td>\n",
       "      <td>1199577600</td>\n",
       "      <td>LOACKER QUADRATINI VANILLA WAFERS</td>\n",
       "      <td>DELICIOUS WAFERS. I FIND THAT EUROPEAN WAFERS ...</td>\n",
       "    </tr>\n",
       "  </tbody>\n",
       "</table>\n",
       "</div>"
      ],
      "text/plain": [
       "       Id   ProductId         UserId      ProfileName  HelpfulnessNumerator  \\\n",
       "0   78445  B000HDL1RQ  AR5J8UI46CURR  Geetha Krishnan                     2   \n",
       "1  138317  B000HDOPYC  AR5J8UI46CURR  Geetha Krishnan                     2   \n",
       "2  138277  B000HDOPYM  AR5J8UI46CURR  Geetha Krishnan                     2   \n",
       "3   73791  B000HDOPZG  AR5J8UI46CURR  Geetha Krishnan                     2   \n",
       "4  155049  B000PAQ75C  AR5J8UI46CURR  Geetha Krishnan                     2   \n",
       "\n",
       "   HelpfulnessDenominator  Score        Time  \\\n",
       "0                       2      5  1199577600   \n",
       "1                       2      5  1199577600   \n",
       "2                       2      5  1199577600   \n",
       "3                       2      5  1199577600   \n",
       "4                       2      5  1199577600   \n",
       "\n",
       "                             Summary  \\\n",
       "0  LOACKER QUADRATINI VANILLA WAFERS   \n",
       "1  LOACKER QUADRATINI VANILLA WAFERS   \n",
       "2  LOACKER QUADRATINI VANILLA WAFERS   \n",
       "3  LOACKER QUADRATINI VANILLA WAFERS   \n",
       "4  LOACKER QUADRATINI VANILLA WAFERS   \n",
       "\n",
       "                                                Text  \n",
       "0  DELICIOUS WAFERS. I FIND THAT EUROPEAN WAFERS ...  \n",
       "1  DELICIOUS WAFERS. I FIND THAT EUROPEAN WAFERS ...  \n",
       "2  DELICIOUS WAFERS. I FIND THAT EUROPEAN WAFERS ...  \n",
       "3  DELICIOUS WAFERS. I FIND THAT EUROPEAN WAFERS ...  \n",
       "4  DELICIOUS WAFERS. I FIND THAT EUROPEAN WAFERS ...  "
      ]
     },
     "execution_count": 10,
     "metadata": {},
     "output_type": "execute_result"
    }
   ],
   "source": [
    "display= pd.read_sql_query(\"\"\"\n",
    "SELECT *\n",
    "FROM Reviews\n",
    "WHERE Score != 3 AND UserId=\"AR5J8UI46CURR\"\n",
    "ORDER BY ProductID\n",
    "\"\"\", con)\n",
    "display.head()"
   ]
  },
  {
   "cell_type": "code",
   "execution_count": 11,
   "metadata": {},
   "outputs": [
    {
     "name": "stdout",
     "output_type": "stream",
     "text": [
      "Original Data shape:  (525814, 10)\n",
      "shape after dropping :  (328771, 10)\n"
     ]
    }
   ],
   "source": [
    "# sorting data according to Product ID\n",
    "sorted_data = filtered_data.sort_values('ProductId')\n",
    "\n",
    "\n",
    "# drop duplicate\n",
    "\n",
    "final = sorted_data.drop_duplicates(subset={\"UserId\",\"ProfileName\",\"Time\",\"Time\"})\n",
    "print(\"Original Data shape: \",sorted_data.shape)\n",
    "print(\"shape after dropping : \", final.shape)\n"
   ]
  },
  {
   "cell_type": "code",
   "execution_count": 12,
   "metadata": {},
   "outputs": [
    {
     "data": {
      "text/plain": [
       "(328769, 10)"
      ]
     },
     "execution_count": 12,
     "metadata": {},
     "output_type": "execute_result"
    }
   ],
   "source": [
    "final = final[final.HelpfulnessDenominator >= final.HelpfulnessNumerator]\n",
    "final.shape"
   ]
  },
  {
   "cell_type": "code",
   "execution_count": 13,
   "metadata": {},
   "outputs": [
    {
     "data": {
      "text/plain": [
       "Score\n",
       "positive    275649\n",
       "negative     53120\n",
       "Name: count, dtype: int64"
      ]
     },
     "execution_count": 13,
     "metadata": {},
     "output_type": "execute_result"
    }
   ],
   "source": [
    "final['Score'].value_counts()"
   ]
  },
  {
   "cell_type": "markdown",
   "metadata": {},
   "source": [
    "## Bag of words ( Text to vector)"
   ]
  },
  {
   "cell_type": "code",
   "execution_count": 14,
   "metadata": {},
   "outputs": [
    {
     "data": {
      "text/plain": [
       "scipy.sparse._csr.csr_matrix"
      ]
     },
     "execution_count": 14,
     "metadata": {},
     "output_type": "execute_result"
    }
   ],
   "source": [
    "count_vector = CountVectorizer()  #ski-learn\n",
    "final_counts =  count_vector.fit_transform(final['Text'].values)\n",
    "type(final_counts)"
   ]
  },
  {
   "cell_type": "code",
   "execution_count": 15,
   "metadata": {},
   "outputs": [
    {
     "data": {
      "text/plain": [
       "(328769, 110684)"
      ]
     },
     "execution_count": 15,
     "metadata": {},
     "output_type": "execute_result"
    }
   ],
   "source": [
    "final_counts.shape"
   ]
  },
  {
   "cell_type": "markdown",
   "metadata": {},
   "source": [
    "## Text preprocessing"
   ]
  },
  {
   "cell_type": "code",
   "execution_count": 16,
   "metadata": {},
   "outputs": [
    {
     "name": "stdout",
     "output_type": "stream",
     "text": [
      "241\n",
      "Michael Keaton was already on his way to being a major star when he played the ghost with the most in \"Beetlejuice.\" His performance in the title role simply solidified his status as one of Hollywood's brightest comedy stars.<p>Now, years later, this film still generates the same belly laughs that it did when it was first released. Alec Baldwin and Geena Davis have fun in their roles as husband and wife who are surprised to find themselves dead, but they are merely window-dressing for Keaton's centerpiece. The only complaint here is that there are a few too many gross-out gags, but that is something which has come to define many of director Tim Burton's films. Still, the movie is a lot of fun from beginning to end, and it's worth considering adding it to your video collection.\n",
      "250\n",
      "What can I say? This is a CLASSIC! I've seen this movie so many times I actually have most of the words memorized. This movie is hilariously funny, but at the same time it has a touch of drama in it. It's an all around great movie.<p>Michael Keaton does an excellent job of playing the odd, funny, and perverted Beetlejuice who causes quite the chaos with a newly deceased couple, Adam and Barbara. Let me just say no one and I mean NO ONE could've been better for the part of Beetlejuice.<p>The only disapointting thing about the DVD Beetljuice is there were no deleted scenes or extra footage.. I was disapointed, but I love this movie so much it was still worth it!<p>If you haven't seen Beetlejuice, then YOU MUST SEE IT. And for all the Beetlejuice lovers and fans out there this is a must have to your video or DVD collection~\n",
      "251\n",
      "Re-watching Beetlejuice more than a decade after it thrilled, frightened and enthralled me as a child makes me sad about Mr. Tim Burton's transformation into a Hollywood favorite semi-quirky remake-director (Planet Of The Apes, Sleepy Hollow) in recent years (Big Fish indeed signals a hopeful recovery - if only Charlie And The Chocolate Factory doesn't spoil it...!) At the young age of thirty, and in only his second full length feature, Burton created a cult favorite that is one for the ages. In this bizarre, off-beat script by Michael McDowell (who collaborated with him before on an episode of the `Alfred Hitchcock Presents' television series) he found the ideal vehicle for his unique and strange imagination - and indeed, Burton's unique vision is more apparent here than in any of his movies, The Nightmare Before Christmas being the happy exception. Though it's true that it's not as personal a creation as `Nightmare' or Edward Scissorhands, this is the movie that would place Burton on the map as a major director, and would earn him his breakthrough job - directing the first Batman feature film. It is on Beetlejuice that he would also start several long-time collaborations with actors who would work with him again in the future - Michael Keaton (Batman &amp; Batman Returns), Winona Ryder (Edward Scissorhands), Jeffrey Jones (Ed Wood, Sleepy Hollow), Glenn Shadix and Catherine O'Hara (both of whom did voiceovers for Nightmare Before Christmas).<p>So, again, while Beetlejuice isn't as deep and personal film as we would see in Nightmare Before Christmas, Edward Scissorhands, Ed Wood or Big Fish, Beetlejuice is an incredibly imaginative and captivating film and is a perfect black comedy. Geena Davis and Alec Baldwin are both more than adequate, but Michael Keaton in the title part is of course the real star of the show - although in reality his part is much smaller than those of Davis and Baldwin. Keaton is electric and mesmerizing as the bio-exorcist or `the Ghost with the Most', Beetlejuice (spelled BETELGEUSE!), probably the greatest and most memorable performance of his career (with the possible exception of the part of Batman). Keaton really let loose in Beetlejuice, and he and Burton were seemingly having a blast - they created one of the most memorable horror and comedy characters on the big screen. Seventeen year old Winona is also terrific as Goth-girl Lydia, fascinated and repulsed by Betelgeuse's extreme personality. Similarities between her character here and the one in Edward Scissorhands are easy to find, but for my money her performance as Lydia is the better one.<p>And in conclusion, if there's any movie that I'd recommend to own on VCR or DVD, it's Beetlejuice; because Burton at his best made films that are well rewarding in repeated viewing, and Beetlejuice is Burton at his very, very best, even if it's not his best film. So even if it's not an essential masterpiece like Edward Scissorhands, Beetlejuice is one of the classic cult films of all time, and I can't imagine going through life without it - that is, if you have the tiniest bit of a sense of fun and humor.\n",
      "254\n",
      "Tim Burton had come off the blockbuster success of his first feature film PEE-WEE'S BIG ADVENTURE (1985) when he was greenlighted by Warner Bros. to direct the project he REALLY wanted to make. It was the picture that would define the rest of his career to this day: the supernaturally weird black comedy (and weirdly-titled) BEETLEJUICE (1988). It was so unique, so strange to me that I didn't know what to make of it when I first saw it on video in 1989. I remember from that first time liking parts of it, but not liking the picture as a whole. The movie was so frenetic, so odd in its mixture of Goth Horror, Comedy, gruesome visual effects (I'm still kind of amazed that it got a PG rating instead of PG-13) and cartoonish slapstick that I really didn't know what to make if it. Well, now that I've seen it at least a half-dozen times since (three of them in the past year alone), I can say that it has held up better than many of the most popular 80's films (TOP GUN, etc) and has become a classic all unto itself.<p>With BEETLEJUICE, Tim Burton showed not only that he could direct effective comedy and illicit inspired performances from his actors, but also bring a true artist's touch to the big screen. Of course, the film won the Oscar for Best Makeup (as if there was any real question about it), but I also think that it should have also been at least nominated for Visual Effects and Art Direction, as those truly mesmerizing aspects all come together to create a product that is so unique. Not only that, but this film helped make the careers of several actors who would go on to major success soon after.<p>Two of those actors are Alec Baldwin and Geena Davis, as the ill-fated newlyweds Adam and Barbara Maitland who, after buying a big Victorian dream house at the film's outset, die in a bizarre car accident soon after. Slowly realizing that they've passed on to the next world, they don't want to give up their house to the pathetically bourgeois Charles &amp; Delia Deetz (Jeffrey Jones &amp; Catherine O'Hara), who along with their chubby, effete chauffeur Otho (Glenn Shadix) have already moved in, and inspire true disgust in the newly-dead couple. However, they seem to have an ally in the older couple's death-obsessed Goth daughter Lydia (Winona Ryder) see an afterlife advertisement for a &quot;Bio-Exorcist&quot; named Betelgeuse (Michael Keaton) and decide that their only hope in driving out the destestable Charles, Delia, and Otho is in using the wild, unpredictable Betelgeuse. Of course, good ol' Betelgeuse will gladly provide his unique brand of service, but at a very high price. <p>Alec Baldwin &amp; Geena Davis fill their roles very well. The ironic thing is that this was the first film I'd ever seen Alec Baldwin in, so my first impression of him as the nerdy, good-natured Adam ended up being turned around by 180 degrees by the psychotic, tough-guy roles that would define the rest of his career. That turnabout came pretty quickly, actually, as the very next film I would see him in was MARRIED TO THE MOB (1988), in which he was a mobster unbeknownst to his wife who gets offed early on, but it was his psychotic turn in the extremely quirky and violent MIAMI BLUES (1989) that really shocked me and made me realize that Alec really had some range to him (unfortunately, he would be end up being typecast as psychos for the rest of his career). However, Geena Davis, herself at the cusp of stardom (and Oscar acclaim) is playing pretty much the quirky kind of character that would eventually define her career. In fact, it was just the following year that she would win the Oscar for Best Supporting Actress for playing the truly quirky and inspired Muriel Pritchett in the otherwise uninspired THE ACCIDENTAL TOURIST (1989). This film, of course, also boosted the career of the now-infamous Winona Ryder, who quickly became the hot new &quot;it&quot; girl in the late 80's with this movie and with others soon to follow: 1969 (1988), HEATHERS (1989), GREAT BALLS OF FIRE! (also 1989), EDWARD SCISSORHANDS (1990, and another Tim Burton film) and MERMAIDS (also 1990). Of course, former AMADEUS (1984) emperor and FERRIS BUELLER'S DAY OFF (1986) principal Jeffrey Jones, now infamous for his own reasons, is also terrific here, as is former &quot;SC-TV&quot; alumnus Catherine O'Hara. We also get a welcome supporting performance from the great old character actress, Sylvia Sidney, as the chain-smoking receptionist Juno!<p>But it was Michael Keaton, who was already an up-and-coming comedic actor known for quirky hit comedies such as the Ron Howard-directed NIGHT SHIFT (1982), MR. MOM (1983), JOHNNY DANGEROUSLY (1984) and GUNG HO (1986), who really stole the show and hit paydirt in the process. He would immediately be elevated to &quot;A&quot; list status with his truly brilliant, maniacal and hilarious performance as the titular Betelgeuse, going immediately on to bigger &amp; better things with Tim Burton himself, starring soon after as BATMAN (1989)! It's funny; I think that in 1988, Keaton was robbed of Oscar nominations not only for this truly unique comedic role, but for also his surprising dramatic turn as a recovering alcoholic in CLEAN AND SOBER. It just shows that, for whatever reason, comedians just don't get recognized enough for their acting ability.<p>BEETLEJUICE is a lot of fun. It looks like it must have been a lot of fun to make. Despite the liberal PG rating, I would recommend it only for ages 9 &amp; up, as the humor is quite adult and the rather gruesome visuals are likely to give any young child nightmares. It is still a truly unique movie with incredible special effects, and it still makes me laugh to this day. Oddly enough, whenever I see it, it makes me that much less afraid to die!<p>HIGHLY RECOMMENDED\n",
      "257\n",
      "Set in a small New England town, Tim Burton's masterpiece &quot;Beetlejuice&quot; follows the life of Adam and Barbara Maitlin, owners of a large house and small hardware store. While taking a vacation at home, the couple drowns in a mishap car accident. When their home is taken over by boisterous city-folk, they turn in several directions for help  in haunting the Deets family. One such prospective poltergeist is Beetlejuice- brilliantly played by Michael Keaton. <p>Featuring a star-studded cast including a young Winona Ryder, Geena Davis, Alec Baldwin and of course Keaton, the storyline boasts creative, believable characters simply not seen in movies these days. <p>Everything in the storyline is clever, from props to costumes right down the score. One of my absolute favorite films!\n",
      "259\n",
      "What happens when you say his name three times? Michael Keaten stars in this comedy about two couples that live in an old two story house.  While coming back from a supply store, the couple suddenly get caught inside of a  &quot;broken-up&quot; bridge and then just before they start to tumble down  into the lake, a board catches them.  But just when they've got their hopes  up, and small dog steps on the board and the car starts to slide off the  bridge and into the lake waters.  A few minutes later...<p>They find  themselves back into their home, they find that somehow somehad light the  fireplace, as if done by magic.  From then on, they find a weird-looking  dead guy known as Bettlejuice.  The only way they can get him for help is  to call him by his name three times and he will appear at their survice.  But they soon wish that they have never called his name, because  Bettlejuice was once a troublemaker but he is the only one who can save  them, on the account that they said his name three times.  They can't leave  their houses or else they will find theirselves in another world with giant  sandworms.  This is a stellar comedy that you should see! Michael Keaton is  awesome as he plays the leading role of Bettlejuice.\n",
      "293\n",
      "At the time of its release in 1988, 'Beetlejuice' was a huge hit. Although it does seem a little dated now, it still has some wonderful visual jokes (especially the characters in the waiting room). The laughs begin with the main characters' deaths after only 10 minutes. They look expectantly at a little dog who is balancing their car on a plank of wood over the edge of a bridge. He tip-toes off and they fall to their deaths. The film is full of satirical vignettes e.g. the after-life is managed by a number of desk clerks who have condemned themselves to an eternity as civil servants because they committed suicide. The Deetz's interior designer Otho is unafraid of all the ghoulish horrors that surround him, but yet finds himself in his most frighteneing moment when Betelguise removes his designer suit to reveal a 70's pastel leisure suit and he runs in terror.<p>Apparently director Tim Burton loved making the film as Warners stayed off his back for most of it, so he had greater freedom to improvise with the actors and the story. Half-way through its making, he didn't know how it was going to end. The stop-motion techniques might look a little dated but Burton was a big fan of Godzilla as a child.\n",
      "294\n",
      "Beetlejuice is an awe-inspiring wonderfully amusing comedic romp that explores the incredible possibilities of the after-life and the boundaries of the absurd. Telling the tale of a recently dead married couple that suddenly gets led into the chaotic world of the supernatural. Adam and Barbara Maitland (Alec Baldwin and Geena Davis) discover many of the conflicting rather human imperfections that haunt the lives of the living also plague the afterlife as well.<p>Unlike some film projects that seemed to be blindly assigned to dispassionate filmmakers for commercial reasons, Beetlejuice's plot and bizarre subject matter remarkably complemented Burton's unusually macabre artistic sensibilities extraordinarily well. Created by the unbelievably brilliant guidance of imaginative film director, Tim Burton (Pee Wee's Big Adventure, Batman, Ed Wood, Sleepy Hollow). The film's uniquely creative landscape was a culmination of essentially all of the abundant irony and outlandish yet human behaviors that have graced the body of Burton's work.<p>Augmented by deviously energetic performances from Glenn Shadix, Jeffrey Jones, Winona Ryder, Catherine O' Hara, Geena Davis, and Alec Baldwin, the film bustles with uninhibited brilliant hilarity that persistently pushes the film to a level of almost affable euphoria. Paired with its ingenious screenplay and a tour de force performance by Michael Keaton as Beetlejuice. This film transforms itself into an exuberant jovial exercise that is extremely satisfying and philosophically perceptive on many levels. Though comedy is usually considered to be unable or undeserving of deep critical analysis, Beetlejuice is an undeniably inspired concept that has been flawlessly transferred to film. One of the most outstanding comedies of the 1980's. <p>As for the film's DVD package, the DVD includes the theatrical trailer, an isolated Danny Elfman musical track, and the choice to watch the film in anamorphic widescreen or Pan and Scan. Hopefully Beetlejuice will eventually be graced with a special edition. We can always hope.\n",
      "297\n",
      "Beetlejuice is the story of ghosts (Alec Baldwin and Geena Davis) who can't get along with the family (Jeffrey Jones, Catherine O'Hara, and Winona Ryder) that moves into their house. The ghosts enlist Beetlejuice (Michael Keaton) to help them, and the fun really starts. The movie is directed by Tim Burton. Robert Goulet and Dick Cavett make cameos. The score is by Danny Elfman. This movie has a great cast and a great director. <p>If you're a fan of Burton's other movies, you'll especially like this movie. Like all his movies, it has his distinctive look and feel to it. But anyone can enjoy this far-fetched comedy. Being PG, it should be appropriate for most members of the family. The DVD is lacking some of the special features that I would like to see though - like outtakes, behing-the-scenes, etc...\n",
      "308\n",
      "When Two Couple (Geena Davis & Alec Baldwin) died in a car accident but they come back alive as Ghosts, they are Stuck for eternity inside thier house. Months later, a New York Family (Winona Ryder, Jeffery Jones & Catherine O` Hara) move to a Little Connecticut Farmhouse, changing the house aesthetically. The Ghostly Couple are forced to call a Out of Control Troublemaker named Beetlejuice (Played in a Over the Top Role by Micheal Keaton) to get the new Family out of thier home.<p>Directed by Tim Burton (Batman, Batman Returns, Ed Wood) made a entertaining delightful silly fantasy comedy with unique Visual Effects and a terrific music score by Danny Elfman. A Box Office Hit in the Summer of 1988. The film has Plenty of Energy, Style and Humor. Danny Elfman win an Oscar for his Unique Score. A Extremely likeable film for all ages. Grade:A-.\n",
      "322\n",
      "I'm getting crazy.I'm looking for Beatlejuice french version video.<p>Is it really impossible today not to find the French VHS version of this film ?<p>Could U please tell me something about it ? Tks\n",
      "335\n",
      "Tim Burton is a guy Hollywood should honor every day. He's one of the few who agree to stay in the system and direct personal movies for the majors.<p>And his personal world is something very special. Things have a soul or, at least, come to life under Burton's camera. <p>Beetlejuice is one of the first efforts of Tim Burton and it's already great. There's a style, a signature, a world , details which reveal an authentic creator.<p>It's possible you will hate this world but you will not have losed two hours, I guarantee you. Come and see what can be created with a camera and a little brain. <p>A DVD I'm proud to have in my collection.\n",
      "336\n",
      "Beetlejuice is Tim Burton's 2nd film after Pee Wee's Big Adventure and it's his most popular next to Batman. A lot of films such as Monkey Bone have tried to copy it's strange originality and have failed. It wasn't the best reviewed movie when it came out but that's because critics most likely didn't know what to think about it.<p>  It has fun effects, a wacky and energetic performance by Michael Keaton and an original plot. After all these years there's still nothing quite like Beetle Juice. I mean what other movie has giant sand worms that eat dead people ?\n",
      "339\n",
      "I am continually amazed at the shoddy treatment that some movies get in their DVD release.  This DVD is simply a disgrace, especially considering what a great movie this is.  I give the movie itself 5 stars; it's a wonderful example of Tim Burton's energy and style.<p>This DVD has no extras worth mentioning.  No deleted scenes, no featurettes, not even a lousy commentary track!  To make it even worse, the film has been CUT DOWN from the theatrical release!  I have never seen a DVD release before where you get LESS than was originally presented in theaters.<p>My advice is to save your money until somebody figures out that when a movie is released on DVD, it needs to live up to the capabilities of the medium, and should always provide more material than was originally released, not less.\n",
      "352\n",
      "When this movie first came out about fifteen years ago, my father owned a video store and every Wednesday night was \"Beetlejuice\" night. I'm older now, obviously, but I still cannot get enough of this movie. <p>Alec Baldwin and Geena Davis play Adam and Barbara Maitland, two Connecticut yuppies who die prematurely in a car wreck. Within a couple weeks, their home is overrun by an ultra-trendy New York City family, Charles and Delia Deetz, and their Goth daughter, Lydia (played respectively by Jeffrey Jones, Catherine O'Hara, and Winona Ryder). Adam and Barbara want their house back, and attempt to scare the Deetz's out of the house by wearing sheets and even by possessing them over dinner, making them sing and dance to Harry Belafonte's \"Day O.\" Those attempts fail and enter Michael Keaton as Betelguese, \"the afterlife's leading freelance bio-exorcist.\" The movie is dark without being scary and funny without being ridiculous. <p>In my opinion, one of the real gems in this film is the late Sylvia Sidney as Juno, Your Case Worker. Sidney was pushing eighty when this film was made, but turns in a great performance as the embittered equivalent of an afterlife social worker. Love how the smoke from her ever-present cigarette comes out of the slit in her throat. <p>If you've never seen this movie, see it. If you have seen it but don't own it on DVD, get it. The picture quality is better than ever.\n",
      "359\n",
      "It was on the other night, and, having been a big fan of the cartoon when it was being shown, decided to watch it (I'm also trying to see all the Winona Ryder movies I know.). <p> It's a well known fact i like seeing her [Winona Ryder] dance at the end of a movie (hey, it's funny!), but apart from that, it was just a hilarious film and i liked it very much. The only thing  wrong was that it was too short. Maybe the special efects were a bit &quot;off&quot;, but hey, it's an older movie1\n",
      "362\n",
      "Just to let you know, this movie is one of my personal favorite ghost movies. That said, I feel I need to tell you some details about this terrible DVD. The packaging is fine, nothing great, but it works. The picture and sound quality are good and make it a good cinematic experience. However, the menu is complete trash, the extras are EXTREMELY embarassing, and to play the movie you actually have to click on scene selections and click on the first chapter because there is no PLAY button! What's the problem here? As I recall, this film is on AFI's top 100 funniest movies ever made, so don't you think they could make a better DVD than this garbage? I am so sick and tired of these movie companies getting away with selling us trash.<p>This double sided disk is no good. Pick what format you want the first time you watch it, and stick with that side the whole time...because if you switch each time, both sides get scratched! Personally, I think fullscreen is for idiots who think they're getting the whole picture when they're not. You people put no actual thought into making DVDs, you just slap some crap together and think its fine. No, it's not fine! Clean up your acts!\n",
      "839\n",
      "I don't know why anyone would ever use those little liquid food colors again after trying these pastes. The colors are more intense, and you can easily blend lovely shades for your icings. <p>Martha Stewart shows wonderful seasonal cookies from time to time on her TV show. A simple eggwhite-sugar icing on cookies in exciting colors makes such a wonderful table decoration as well as great dessert for parties, teas and other events. These paste colors are a must if you like to make frosted cookies or party cakes. <p>And these are especially fun if you have kids. A cookie-icing contest is a fun event for a birthday party, Christmas party or just a rainy afternoon.\n",
      "858\n",
      "The spectra paste food colors are simply fantastic. They provide a depth and clarity of color that is impossible to achieve with liquid food colors. And the hues are beautiful and distinctive. The black and red, two colors which are very difficult to get when dying frostings, etc. are especially nice - probably the best of any manufacturer I have tried.<p>For those who had questions, I am not 100% certain about the sizes, but if the set is the same as mine, the bottles are 3/4 ounce. While that might not seem like much, all you need is a dot of this thick gel paste at the end of a toothpick to color large amounts of material. So there is plenty of coloring ability in each bottle - many, many times more than a same sized liquid food color bottle. <p>Highly recommended and at a really good price at the time of this review.\n",
      "860\n",
      "I'm really glad I bought the Ateco 12-Color Food Coloring Kit.  I found it searching for Black food coloring for my Halloween cookies.  I just finished my Christmas cookies which turned out amazingly thanks to this food coloring kit.<p>Each color is very bright and solid.  The pastes mix very well with frosting (I have not used them for anything else yet).  These are the nicest/brightest Christmas sugar cookies I have ever made.<p>You don't need to use a lot of coloring, just a drop or two, to get the perfect shade.  As such, each bottle will last a long time.\n",
      "861\n",
      "For those wondering, the bottles are each 3/4 oz. and they are a gel food color. <p>Very vibrant, the amount goes far for me.\n",
      "996\n",
      "After years of using Starbuck's decaf and regular single serving espresso pods, I finally found a substitute that's more economical and MUCH better tasting.<p>I've used three different brands of pods in my Starbuck's Barista machine, and have found that the quality of the pod and the flavor of the espresso inside is, by far, the best in the Espressione pods. The flavor is more full bodied and stronger than in the Starbuck's pods. I actually use one pod to make two shots of espresso, and the flavor is more intense than when I buy my specialty drinks from Starbucks or other coffee houses.<p>Also, the pod itself is of very high quality. Each pod is individually wrapped in an airtight, hard foil wrapper, and I've never opened a package yet that contained a torn pod with coffee spilling out. Such is not the case with other lesser brands.<p>The tab on each pod is also handy, making it easier to switch out a hot spent pod with a new one when making a second round of espresso.\n",
      "998\n",
      "We ordered these to go with our new espresso machine and have been so pleased with them. We were really shocked at how delicious and tasty this coffee is - I bought it based on the Amazon reviews and they were right on. I decided these deserved another good review after I tried a Starbucks pod this morning and had to throw it out it was so terrible - it had no flavor and tasted watered down even though I made the correct amount (1 oz.) I have been lavishing praise on our espresso machine, which it does deserve, but I have now realized that the Espressione pods are the big reason that we've fallen so in love with our home espressos. The coffee is very flavorful, richly so. The price is also competitive when ordered in bulk like this, a great deal (these pods come out to be $.40 each whereas the Starbucks pods were $.41 each). They are certainly worth more.<p>One caveat, make sure to order the 100% Arabica pods - you would be well advised to always buy Arabica coffee as it is far superior to coffee made with the cheaper, more acidic Robusto beans.\n",
      "1045\n",
      "I have used both this product and the standard (cheaper) Vacu-Vin...pay the premium and buy this product, as it is SUBTANTIALLY easier to use.<p>In addition to being more stylish than the standard Vacu Vin, the stoppers on this product are easier to use and the pumping mechanism &quot;clicks&quot; when you have pumped enough air out of the wine bottle...the standard model just leaves you guessing about how much air has been removed.\n",
      "1056\n",
      "I've been using Vacu Vin's previous model for years and have been happy with it.  The one downside of the earlier offering was that wine lovers never knew when a vacuum was achieved.  I used to overpump just to make sure the wine-damaging oxygen was out of the bottle.<p>I got this model in Napa a few months ago and I'm glad I did.  While it doesn't deliver on its Concerto promise, it does give you reassuring clicks when a vacuum has been reached, enabling you to stop pumping sooner.  It's a nice refinement.<p>The only downside over the previous model is that it won't work with the marinating device sold separately because the bottom is configured differently from the earlier model.\n",
      "1104\n",
      "The notoriously out-of-print early albums of Camper Van Beethoven get a bare-bones presentation (CDs come in cardboard single sleeves).<p>The price is exceptionally cheap, there's a full-length live album, and also included is a lengthy booklet with essays on the Santa Cruz college rocker lifestyle of the early Campers.<p>For any CVB fan, this is a sure thing, a godsend for those who didn't snap up early CD printings of the first albums.<p>For those curious about Camper Van Beethoven, this is the set to get.\n",
      "1111\n",
      "Finally, a collection of the best Camper Van Beethoven albums (I think there is one album missing from the band, a  major label release with intentionally clean over-production).  I had been waiting years for this dream CD, as I only possessed each one in vinyl.  <p>Some people like to listen to a full album that has a recognizable identity in its sonic experience.  You will not get that from Camper, as they instead offer a faint, mysterious familiarity in musical pieces that can tweak your ears in two opposing directions, even during the simplist compositions.  If that sounds appealling, you can correctly guess that boredom cannot maintain a presence with this compilation.<p>Categorizing this music is impossible, again due to so many style changes.  Psycho-country?  Unpretentious garage-rock with arena-sized talent?  Low-fi Hillbilly Jazz?  Spraycan Art-rock?  Gritty Underground Surf? Poor rich kids with Mischievous Aspirations transferring their energy into music? Kerouac whack?  How about calling it a \"Flexible Soup\".  It's anything but smooth, yet occassionally you find David Lowery's penchant for small club-guitar rock sneaking through (after CVB dismantled, he became the leader of the successful pop-rock group, Cracker).  It may be easier to instead think of the band as a group of hyper-static fellows whose medications are almost, but not quite at the right dosage.  They're simply possessed by friendly demons with a spiritual intent to entertain and cause wonder. <p>Each album collectively draws numerous inspirations and styles, completely entertaining the listener through lyrics and musicianship on a variety of traditional and obscure instruments.  One can only imagine the pure enjoyment the band had while first writing then performing these before an audience.  For two decades now, I've held a relentless belief that CVB would make the most amusing backyard-party band -- sure to make Granmma Nelly dance alongside her pierced third generation of family one moment and then cover her bleeding ears when the next song begins.  However, I believe the band's intent is not to frighten or shock, but to instead expose the wealth of musical styles that one listener despises while another reaches a glee plateau.  Be sure that these same two listeners will switch positions when a later tune begins.  Are you prepared to enjoy the best of many worlds?<p>Picturesque landscapes are lyrically drawn with a slacker-like intelligence in unimportant poignancy, the next moment you are drawn into a global hoe-down, followed then by crafty psychedelica mixed with raw instrumentals, closing with an guitar orchestra jamout with lead played by a screaming violin chant.  Add a half-tablespoon of sugar Wiseguy and serve.  <p>Add this to your collection if you appreciate bands that are like no other.  Some tracks will prompt you to ask \"Why?\", yet with an immediate second thought you'll smile and say \"Why hasn't Anyone Else?\"<p>[I noticed that CVB had recently made a handful of live performances after a long time apart.  I've caught several of their shows and recommend all to give your mind a jolt of electricity that is surprisingly pleasant.  You will walk away wide-eyed at the unrealized potential and wasted energy we swallow in 99% of today's music. ]\n",
      "1386\n",
      "My cat Foutchie is heading toward 5 now and no one told her the trouble with a kitten is it eventually becomes a cat (so take that Ogden Nash!).  She still voom-voom-vooms around at a pace that makes me exhausted.  She loves toys, especially stuff she chases.  So the bubbles are great full.  Especially since they are catnip bubbles.  You don't have the worry about them getting soap on them and making them sick.  She love jumping high to pop them.<p>So if you are looking for something to awaken the kitten in your kitty, you might try these.\n",
      "1435\n",
      "Both my cats have a good quality dry food as their main staple, but enjoy sharing a can of Fancy Feast a day; it makes their peaceful lives more interesting, and gives them that extra motivation to wake me up in the morning.<br />Gourmet Seafood Feast is their very favorite flavor, but others that rank high are Fancy Feast Gourmet Chicken Feast and Ocean Whitefish and Tuna Feast.<br />The flip top can makes it easy for their sleepy mom to serve breakfast, and the smell though fishy is not bad at all. Perhaps it might do with some sour cream on crackers if your run short on canap&eacute;s during your next cocktail party.<p>The can states that its main ingredients are Ocean Fish, Liver, Meat By-Products, and Fish Broth. There are many other ingredients of course, as well as vitamin supplements. The can also states that Fancy Feast Seafood Feast &quot;Provides complete and balanced nutrition for the growth and maintenance of cats&quot; and recommends 1 can per  3 and 1/2  lbs. of body weight, and reminds us to &quot;Refrigerate unused portion&quot;.<br />Whether served in crystal or the plain white ceramic bowls my buddies Liddy and Mushka get, your cats will love Fancy Feast, and will thank you with satisfied purrs.\n",
      "1887\n",
      "I really hate to do this (having been a fan of the Van Pattens for years) but feel that I must to save you money. Opening up a can of this substance will release the most ungodly stench into your home that you have ever had the displeasure to smell. To call this stuff &quot;natural&quot; is like saying that Michael Jackson is &quot;normal.&quot;<p>Not only will my felines do everything within their kittie powers to sidestep the pungent aroma spawned from this evil can, but I can't even manage to feed this to the most malnourished squirrel on the block.<p>When they produce this kind of product, they really must get some sort of quality control that keeps the stench in check.<p>Sorry.\n",
      "2178\n",
      "Nothing against the product, but it does bother me that there is a link at the top of the page for me to buy it USED. ;)<p>Does your chewing gum lose it's flavor on the bedpost overnight?<p>Andy in Alaska\n",
      "2252\n",
      "Few things I'd like to point out:<p>1.  &quot;Espresso&quot; is not a roast.  It's a drink.  In northern Italy they make espresso from Vienna roast, in southern Italy they use French.  Starbucks appears to be using French roast, so they should just label it French roast like any normal person would.<p>2.  The product description says &quot;Taste Espresso Roast as both a shot of espresso and brewed in a coffee press. This is one versatile coffee!&quot;  This is patently absurd.  It's pre-ground coffee, and it's either for use in espresso machines or presses, but not both.  Here's why:<p>Making a shot of espresso requires a very fine grind.  Making coffee press coffee requires a very course grind.  If you have ground coffee that is appropriate for espresso machines, it will pass through the filter in a coffee press and you will have a cup of sludge.  If you use ground coffee that does not pass through a press's filter in an espresso machine, you do not get espresso.  You get cafe crema, which is a good, but entirely different, beverage.<p>Therefore, a &quot;Universal Grind&quot; is an impossibility.  They should tell you on the label what kind of coffee maker it's ground for, like normal people.<p>3.  It's over-roasted.  Starbucks has an excellent bean-sourcing operation that buys better coffee than any other company of its size.  Then they roast all their beans Vienna or French.  Most beans taste best at a particular level of roasting that varies with the bean, and for most beans that level is not Vienna or French.  So why roast all your beans too dark?  I guess it's just easier that way.  Also, it lets them rename Vienna Roast as &quot;Starbucks Roast&quot; because the Austrians don't seem to care.<p>That said, this is still better than what you get in the supermarket - Starbucks specializes in coffee and sources much better beans than any of the companies that also make cheese, hot dogs, shampoo or cigarettes.<p>Anyway, if you really want some good coffee, do this:<p>Buy a grinder.  Nothing makes coffee lose flavor like keeping it around after grinding.  If you have a drip coffee machine, get a grinder with spinning blades; if you have something else like a press or vacuum pot, get a grinder with burrs.  If you have an espresso machine, get a very nice grinder with burrs.  Amazon has good deals on all three kinds, just do a search for 'coffee grinder'.  It's not that much money, and if you're somebody who's willing to pay for Starbucks you should invest in one.<p>Find a local coffee shop that roasts their own coffee and gives you the date it's roasted on.  Freshness matters!  Good beans don't taste nearly as good after they've been sitting around.<p>Ask the people at your local shop to tell you about the correct amount of beans to use.  Most people don't use the right amount.  If you don't use enough, your coffee comes out bitter, especially if you have a drip machine.  Not enough coffee means the beans you do have get too much exposure to hot water, which makes bitter coffee.\n",
      "2255\n",
      "This blend is one of Starbucks' gentler blends, but you have to like the taste of Starbucks to appreciate it.  Often described as having a burnt taste, Starbucks beans are known for their strongly roasted taste.  Maxwell House afficionados should steer clear.<p>Before you invest in Starbucks coffee, make sure you like the flavor by tasting the brew at a local franchise.  If you don't have one near you, make sure you like a strong coffee flavor.  Although I enjoy Starbucks coffee myself, I am leery of recommending it to the uninitiated.  If you like the taste, stock up now.  The coffee stores well for months in the freezer.\n",
      "2256\n",
      "The grocery store has all kinds of &quot;gourmet&quot; coffees laid out. Each one I tried tasted like dust. Maybe they are ubiquitous, but Starbucks puts out a decent product and I can get a good cup in the a.m. and that's important.<p>The Breakfast Blend is a bit mild for my tastes (I like really STRONG coffee) but for guest and general consumption, this is a mild, aromatic coffee that is better than most.\n",
      "2369\n",
      "When I used to work at the campus pub, one of the most requested items was this tea.  It started with one or two people having colds, needing a tea, and all we happened to have on hand was the Tazo.  What a smart decision by our managers to purchase this product!  It caught on like nothing else had there!  Soon, we were serving more tea than beer!  <p>From a personal standpoint, however, I can attest to its flavor and qualities.  It is the best tea I have ever had the pleasure to drink myself.  The Zen flavor is no exception.  I would highly recommend that you try out all of them (or at least as many as you can) and decide on your own personal Tazo, as the myriad of blends can be a bit overwhelming.  Zen is probably the best green tea I have tried, though.  It's one of my personal favorites.<p>The price really is a bargain.  I've compared in grocery stores and you're better off buying the 6 count dispenser (144 bags in total).  Trust me, you will definitely drink that much tea.  During the summer months, it makes a truly unique and exceptionally tasty iced tea as well and in the winter with a little honey and lemon, it's a perfect suppressant of cold symptons (I would still claim there is no CURE for a cold yet).  Drink in good health and enjoy!\n",
      "2884\n",
      "Many coffee brands that advertise their beans as &quot;Kona&quot; are blends, containing only ten percent beans from the highly desirable region, but these Aloha Island Gold beans are pure Kona, all from plants grown on the Big Island in the designated microclimate that produces some of the smoothest coffee beans in the world. While the Aloha brand may not be Hawaii's best, it is certainly one of the more available brands on the mainland.  Store in the freezer to maintain optimal freshness, and grind the beans immediately before brewing.<p>For coffee connoisseurs, two phrases light up their eyes, &quot;Jamaican Blue Mountain&quot; and &quot;Kona.&quot;  If you want to give a gift sure to impress a sophisticated coffee drinker, you've found your beans.\n",
      "2911\n",
      "To our taste these chocolates are on a par with far more expensive ones in glittery gift boxes.<p>  We often take them as hostess gifts (hoping, of course, that said hostess will immediately open them and pass them around.)<p>  See's Candies hasn't disappointed us yet.\n",
      "2920\n",
      "See's Candies is a well-known San Francisco chocolate company, now with stores throughout the United States.  In California, the lines to buy chocolate can snake out the door.  I've had See's Candies many times, most recently this assortment, and while See's makes an excellent product, the chocolate coating could be richer in flavor.  Still, these confections are above average; they easily outclass ordinary brands such as Russell Stover and Whitman's with fresher and more flavorful fillings.<p>Anyone receiving a box of See's Candies for a gift knows that an extra effort has been made.  Although they aren't the best I've had, they certainly rank up there with the finest chocolate assortments available in a box.\n",
      "2930\n",
      "I recently ordered the Hot Cinnamon Spice tea from Harney &amp; Sons.  The tea tastes like hot cinnamon candies often used to decorate cookies for Valentines day.  The tea is sweet, yet spicy.  According to the Harney literature, the tea contains no sugar, but to taste the tea you will insist that it has sugar in it.  I think the sweet taste comes from the sweet cloves used within the tea.  The aroma is wonderful from the moment the tea is opened.  <p>I must say I was highly impressed with the tea.  The tea is available both loose and bagged.\n",
      "2953\n",
      "Not as quick as those classic Herb-ox cubes, but this stuff will give you authentic Japanese flavors for your cooking.  This is the base note for proper tempura dipping sauce (also known as tentsuyu).  Some people think the flavor is overly fishy but it tastes right to me, the tentsuyu I prepared with this tasted the same as restaurant dipping sauce.<p>You may wish to strain the results after boiling, but the flavors are right on.\n",
      "2982\n",
      "&quot;Hime&quot; is &quot;Princess Brand&quot; and it is a big seller in Japanese and Korean grocery stores. This faintly green powder is mixed with water to make a thick paste to get wasabi, used for sushi, sashimi and to flavor tuna and other dishes. <p>One trick is to mix the wasabi in a rice bowl or tea bowl and turn the bowl upside-down. Yes, that's what I said, turn it over. The paste will stick in the bowl, and the developing sulfurous gases that make wasabi hot, hot, hot are retained, improving the bite. Get that wasabi buzz. <p>I like to use it in tuna with wasabi-potato crust. Or being short on time, I just grill some yellowtail and mix a wasabi-sugar-soy sauce glaze and brush it on at the end of the grilling. Hot and sweet. Another totally bizarre but quite normal Japanese dish is wasabi nori chazuke, or tea-rice. Get some leftover rice warmed up in a bowl, put a dab of wasabi and a sprinkle of sushi nori strips. Pour hot green tea (bancha) over and drink like a soup. Said to be a cure for hangover (I wouldn't know, but they say it works.)\n",
      "3003\n",
      "Panko bread crumbs are just awesome.  When used for breading they make a light yet crispy coating...The are different than traditional *american type* crumbs in the way that soft powder snow is different than heavy packed snow.  <p>The crumbs themselves are larger and irregularly shaped so as they lie on eachother they don't form a dense compressed breading but one with substance that still remains airy.  Their flavor is very light and seasoning is needed but this is a plus for me as I can season to taste.<p>I have also mixed these with traditional bread crumbs at times as these tend to be expensive for a lighter style coating but still essentially very much like all panko dishes.  I tend to use a light egg wash with these as I find using just eggs to dip the meat/poulty/fish in a bit heavy for these crumbs.  <p>In general I find these far superior for coating food.  These aren't the kind of bread crumbs I use for adding bulk (ie meatloaf, meatballs etc).  I have been using these for a few years now an there is a huge difference between these and the others.  I think if you try them you will really enjoy the light crisp crusts you can achieve...\n",
      "3125\n",
      "I am allergic to corn, so eating marshmallows, candy, pecan pie etc. without being able to have corn syrup is a real problem.<p>The Lyle's Golden Syrup, which is made from cane sugar syrup, can be used as a substitute for corn syrup.  It doesn't taste quite the same, though very good.  So I think, if one calls the pecan pie made from Lyle's Golden Syrup sugar pecan pie, for instance, it will be very satisfying as its own thing instead of a substitute for pecan pie.<p>To me, it seems a little sweeter than corn syrup.\n",
      "3268\n",
      "As much as my family and I love cheese from Italy and Spain, we love French cheese more.  France is a country that produces more than 100 cheeses, so it must have been difficult to choose only four for this assortment, but in my opinion, four of the very best were chosen.<p>We are all watching our weight at my house, so we eat a lot of salads.  While cheese is definitely not a &quot;diet food,&quot; a little in a salad goes a long way, especially when you're using Buche Chevre.  My children love it on crackers as well.<p>My wife and I reserved the chaource and the epoisses for a &quot;wine and cheese&quot; party, but believe me, they are so wonderful and so special, you'll be tempted to eat them anytime, party or not.<p>The Gruy&egrave;re de Comt&eacute; is just so special I can't really find words to describe it.  It's rich.  It's creamy.  It's delectable.  We often eat it as a dessert cheese.  Yes, it's really that good!<p>If you're looking for a special gift, you can't go wrong with this French Cheese Assortment.  These are four of the finest cheese France has ever produced.\n",
      "3288\n",
      "This is a great way of learning about different cheeses, and what there flavors are.<p>Gorgonzola is a stronger cheese, usually used for salads - very tangy with a stronger after taste, something I think everyone can really enjoy in that matter. A classic is romaine lettuce, gorgonzola and apple slices.<p>In contrast, gouda is a milder creamy cheese, great for breads. If cheddar were a starting point, I would say gouda is more creamy. It tends to break and crumble less easily, and really stick to bread surfaces better.<p>Both will make you forget about the normal supermarket colby or cheddar. I recommend this sampler highly.\n",
      "3582\n",
      "While Pesto Genovese is my favorite pesto for capelli d'angeli, my family and I love this pesto on crostini.  In fact, it's become a staple in our house and a regular at mealtimes.<p>Sun dried tomatoes tend to have more &quot;tang&quot; than other tomatoes and this pesto will certainly give your crostini added spiciness.  Don't get me wrong, you don't have to use this pesto on crostini alone.  That's just our favorite way of using it.  It would be great on pasta, too.<p>If you love tomatoes, especially sun dried tomatoes, I don't think you can go wrong with this pesto.  I recommend it highly.\n",
      "3647\n",
      "If you get this sauce for the first time, I would take a edge of a toothpick and dip it in the sauce, and get the smallest amount on your tounge. It will burn for a good 10 minutes. This will let you know exactly how hot this sauce is. While I would bet most people use this sauce as an additive in other foods like salsa or chili, I like to put it on burittos (the football sized ones from mexican resturants), about one drop every third bite. But if you eat it that way, be prepared to pay the price. Your mouth will burn with no relief in sight. Your sinuses will clear and your nose will run uncontrollably. Your eyes may turn red, and you might have a hard time breathing. And don't forget about that second burn, the next time you use the toilet (that is a serious warning. I was at a mexican resturant with a friend who ate dave's on his burrito. Dave's kicked in and he had to go. Everyone in the resturant could hear him howling in pain while he was in the bathroom). I only know of one other person who can eat the sauce as a sauce. Everyone else who has tried it has begged for an ambulance or help. It is that hot. And I love it.<p>One other note. If you use it as an additive, a little will crank up the heat level of most foods. If you don't think the hot salsa from the grocery store is hot, a few drops of this will make that salsa much hotter. But do yourself a favor, and make your own salsa. It is easy. I chop up two jalepenjo peppers, a onions, a can of diced tomatoes, maybe subsitute a chipolte if i want more sweetness, the juice of a lime, and a dash of dave's. Salt it and let it sit in the fridge for an hour. After an hour, drain the liquid into the blender, and add in one more can of canned tomatoes. Blend it, and then add it back to the salsa mixing it up. For something different, chop up a bit of mint for the salsa. It will give an odd taste. Your mouth will burn as you breath out, and cool as you breath in.\n",
      "3709\n",
      "I find the best way to rate hot sauces on heat is to compare them to other sauces. This is just slightly hotter than Dave's Insanity Sauce, but slightly less heat than Mad Dog Inferno. It is way hotter than any tobaso product. If tobaso is the only hot sauce you have eaten, I would suggest eating something more mild than Blair's. Sudden Death will give a good burn to just about anyone but the most serious chili heads. <p>What I like about this sauce the most is the flavor. It is very good. Unlike some of the extract sauces which lack flavor, I found this one to taste very good. And it has the heat kick that many of the better tasting sauces do not have.\n",
      "3732\n",
      "La bourbena e autunno in australia foglio dimmi dimmi dimi, voglio supre dutto dimme non mi pice la turbon, mi pice la bourbon, le occhi azzuri, e gli nuvoloso e rosso e tu?<p>P.S. All hail the mightly .... SAFRA BOURBON!!!!!!!\n",
      "3805\n",
      "Frank's RedHot Original has been marketed since 1920 and is one of the best Louisiana-style hot sauces widely available.  The recipe is simple - aged cayenne peppers, vinegar, water, salt, and garlic powder.  However, the sauce has a great consistency and adds the perfect amount of heat.  I find it's perfect for soup, eggs, chili, and popcorn.  In addition, the makers offer an extensive recipe website.  A most highly recommended hot sauce that is sure to become a staple in your home.  <p>Fun trivia: Frank's RedHot was used in the original recipe for buffalo chicken wings, and they still sponsor a wing eating contest in Buffalo, New York.\n",
      "3881\n",
      "The tree came in great condition, healthy and alive.  To add on some of the other comments:<p>-Of course it doesn't come looking like a mature, trained bonsai tree.  It's a 39 dollar tree!!  It won't be trained for that cost!!!!! A fully trained tree takes years and much care to create the illusion of an old, natural tree.  I recommend getting a book and reading up a little before buying.  For the price, this tree is a bargain!!<p>-As far as I can tell, the styrofoam peanuts are the only way to really protect the tree in transit.  Yes, they're a pain to unpack (took 10 minutes) but it's worth protecting the tree.  However, if you noticed, they use corn-starch based foam and they dissolve in water.  They're not environmentally unfriendly.  They're not petro-carbon based polymer.  They're perfectly safe and if you don't want to throw them away, pour them in a bucket of water and pour the water on your lawn.  It may even have some fertilizing properties.\n",
      "4500\n",
      "Blair isn't joking: that plastic skull is a cogent, stark warning not to take this sauce lightly.  And another note: this isn't so much a sauce as it is an additive.<p>Here's how you can literally fire up your mouth: take one 24 ounce jar of generic hot salsa from your supermarket.  Let's say you laugh at their idea of &quot;hot&quot;, which means you're ready to go with Blair's Sudden Death Sauce.<p>Put the salsa in a blender.  Do not blend yet.  Pour about 1/4&quot; of water in the empty jar, shake it up, pour into the blender (get all of your salsa's worth).  Put four-six drops of Blair's into the blender.  Cover and blend on &quot;Liquify&quot;.<p>Pour into a serving bowl.  Take a nacho chip, dip, and eat.  Now run to your  kitchen sink, and stick your mouth under the tap.  After five minutes, the burning should stop.<p>Repeat until the bag of chips are gone.<p>I add a few drops to canned chicken soup, and it really makes it far more tasty and hot than you could ever buy.  I'm impressed at how tasty the sauce really is, if you use it properly.  It takes a little practice to get the right balance of flavor-to-hot, but it really does add flavor to soups, salads, chili (man, does it ever), hamburger, just about anything.  A single bottle might last you about three months, and you'll sneer at lesser sauces in your grocer's aisles.<p>fred\n",
      "4578\n",
      "I recently purchased a bag of Kookaburra Black Licorice at Target (of all places) Real licorice lovers in US know how difficult it to find REAL black licorice here, so I was delighted to find this product at a retail store AND at my fave online store. It is &quot;gourmet-priced&quot; candy, but still a reasonably priced treat that's well worth it. It is far, far better than the crud that's passed off as black licorice in this country! (no wonder so many people say they dislike it!)<p>Kookaburra Black Licorice is the real, old-fashioned licorice deal, in HUGE pieces that are perfect for a mid-day licorice fix.<br />Buy a bag for your fellow licorice lovers, or invite a supposed black-licorice hater to try the real deal--they just might change their minds...This would also make a great, inexpensive just-for-the-heck-of-it gift for an elderly person who fondly remembers the taste of REAL licorice.<p>Oh yeah, one little word of warning though: Real licorice can have a mild laxative effect in some people. :)\n",
      "5008\n",
      "Red beans and rice is such a simple dish.  Everybody in New Orleans eats it on Mondays, from cab drivers and port workers to businesspeople and Tulane kids.<p>New Orleaneans (native or adopted, displaced or otherwise) know that red beans and rice is a very subtle dish.  The beans at Dunbar's, Mother's, and Ye Olde College Inn (all famous for the dish) are all different, and everybody's mother has her own recipe, too.  There are many variables involved in getting it to come out just right, from the choice of meat to the number of bay leaves to add to the pot.  <p>The most important is in choosing beans.  Red beans and rice cooked by displaced New Orleaneans elsewhere doesn't always come out as creamy as people in the city are used to--often they're thick and starchy and the beans need to be put in a blender to get anything resembling the gravy in the authentic dish.  One reason for this is that Americans outside of New Orleans and the Deep South really don't eat beans, red or otherwise, and the beans sit on the shelf and toughen.  The second reason is that the &quot;red kidney bean&quot; popular in New Orleans is not the same thing as the kidney bean used in three-bean salad or Texas chili.  It's smaller, hence it cooks faster, gets creamier faster, and has a more intense color and flavor.<p>Camellia beans are authentic Louisiana red beans--the small variety--and they're probably the most popular in New Orleans.  They enjoy such a good reputation because they're almost invariably fresh and they produce the creamy pot of beans that, more than any other dish, reminds us of New Orleans.\n",
      "5069\n",
      "In the winter when fresh blueberries exceed our food budget these dried blue berries are fine for muffins, breads and puddings.<p>  We also enjoy fruit on our cereal.  In the winter it is often oatmeal and we sprinkle these blueberries on a bowl of oatmeal - wonderful on a cold morning.\n",
      "5073\n",
      "Fresh limes are underappreciated, but a joy to have in the kitchen.  A few squirts of lime juice into water makes a wonderful and healthy alternative to carbonated beverages (and without sugar!). <p>Additionally, they're essential for doing salsa right.  <p>1/4 C Lime juice (from 4 limes)<br />10 small tomatillos, husks removed and washed (ASIN B0000TL6DG)<br />2-3 Chipotles, seeds removed (ASIN B0000EIDSR)<br />1 C cilantro, roughly chopped<br />8 small Tomatoes<br />1 small onion (optional)<br />Salt to taste<p>Cook tomatillos, tomatoes and onion: place on cookie sheet and broil at 500 degrees. The tomatoes will come out in about 10 minutes, the tomatillos and onion 15-20 minutes. Let cool, then puree the tomatillos in a blender with the lime juice, boullion garlic and the chipotles. Add half the cilantro, and whirl just a little bit. Add remaining ingredients. Let stand for about 30 minutes then serve at room temperature.\n",
      "5238\n",
      "I was first turned onto this chocolate when I visited a private Mexican themed coffee shop. I love a good mocha and that's usually how I judge a coffee shop first. This mocha was one-of-a-kind! I had to know what was in it. It was IBARRA!<p>Basically, Mexican chocolate is pure cocoa with cinnamon. IBARRA also adds some sugar and an emulsifier (which is why I only give it 4 stars). I have made mochas and hot chocolates at home and my guests think I'm a god (maybe an Aztec god!). It just really brings an orginal taste unlike any of those other cheap sugary brands (Nestle, Hershey's, ect.). <p>I highly recommend it. But two suggestions: IBARRA comes in &quot;bricks&quot; that you must chop or grind. We use a coffee bean grinder, but make sure it's a good quality grinder or cut the pieces into smaller pieces. Otherwise you might have a broken coffee bean grinder. For a real authentic feel you can use a stone and pistol just fine. And a recipe suggestion: Grind a portion of a Hazelnut for an added spice. ENJOY!\n",
      "5694\n",
      "I wanted to order something from the gourmet food section besides chocolate, so I picked this package of 1lb of jumbo shrimp. <p>The packaging was very nice, they came in a large styrofoam box with icepacks keeping them cold.  I immediately froze them when I got them, as I wasn't cooking them within the next 24-48 hours.  <p>They dethawed well and I made them as a shrimp cocktail.  They were just as good as any shrimp I've bought in a grocery store, though far from the best I've tasted.  <p>While they were good, I will probably just buy my shrimp from the grocery store as the taste is comparable and then I don't have to pay for shipping.  They were decent shrimp though, so I recommend them to people who live in areas where shrimp is not readily available.\n",
      "5752\n",
      "If you've never tried Kona coffee, Aloha Island is definitely the one to start with.  <p>Kona coffee is grown in the Kona district of the Big Island and regarded by some to be the best coffee in the world.  I'm not a coffee aficionado by any means, but you can taste the difference with Kona coffee - it's full and rich and almost mocha-ish.  I always reserve Kona for lazy weekend brunches or to serve with dessert after a lovely dinner.  <p>Aloha Island operates the only quality management program in Kona, so their coffees are certified as 100% Kona.  Which just means that you're guaranteed to get quality Kona coffee if you order from them. <p>Keep in mind that Aloha Island has three grades of Kona coffee that they sell - gold, platinum, and diamond (which is supposed to be their private reserve).  Obviously, it gets more expensive as you go up the ladder.  The gold is very good and a great place to start sampling their fare.\n",
      "5782\n",
      "Do you like chewy caramel?  How about chewy caramel ensconced in milk chocolate?  I sure do...I will say my sweet tooth has subsided somewhat since my youth, but I still enjoy this candy every once in awhile.<p>Little did I know that the Hershey candy I enjoyed so much as a kid had been around since 1937.  They're not too hard, not too soft, and very sweet.  Be warned though, if you are wearing braces as they will get stuck in the metal.  They're also great for cooking, not that I really do much of that, but I've seen many cookie recipes that incorporate these chewy little guys.<p>Probably the most famous advertising campaign I can think of for this candy is one that asked, \"Do you love anyone enough to give them your last Rolo?\" I could think of very few that I would...<p>You get 36 packages, or rolls, in a box, and each package contain eight delightful nubs, buttons, or whatever you want to call them.  That's 288 Rolos...288 chances to make love to your taste buds with creamy chocolate ecstasy...plus I like the foil used in packaging the candy as it's very shiny and almost hypnotic...<p>Cookieman108\n",
      "5863\n",
      "I bought the Raisin Brown Bread today on a whim at the grocery store (Publix in Florida) and I really liked it. Of special interest to me was the fact that no refined white sugar is used to sweeten it (only molasses) and no white flour is used (only whole wheat and rye flours). This bread is therefore quite closer to a South Beach Diet-acceptable &quot;dessert&quot; versus something you'd get in a typical bakery (with the possible exception of the molasses...didn't read that far).<p>The raisins were sweet and delicious and the bread is rich and hearty. I paid $1.99 locally and found it to be a very good value. It was flavorful and delicious enough by itself that butter actually was a negative when I tried it! That doesn't happen often.<p>I would recommend you try this product at least once to see what you think. I think it would be great to keep on hand as a snack, as one can could easily last you a few days of snacking.\n",
      "5949\n",
      "For those who enjoy a rich spread for toast, crumpets, English muffins, etc. this huckleberry medley is what you're looking for.<p>  Ripe, fresh berries abound in these preserves which makes a more than satisfying complement to any breakfast menu.<p>  It's a treat to find a product that hasn't been &quot;watered down&quot; to please everyone's taste.\n",
      "6127\n",
      "If you want to taste something different, and truly wonderful, buy this product. &quot;Dulce de leche&quot; is a typical Argentinian product, and one of my favorite temptations. In case you are not familiar with it, I must say that you are really losing something great...<p>Dulce de leche is a dessert that can be eaten alone or as a topping (for example, on waffles, bread or ice cream). It is also used a lot in cakes and other pastries, and its savor is sweet. It is made by blending hot milk, sugar, and vanilla, and as a result has some nutritional value. However, the most important thing is that it is mouthwateringly delicious :)<p>Even if this product is extraordinarily good, it is important to choose the right label, because a good one can be guarantee of excellence. In my opinion, &quot;La Salamandra&quot; is one of the few labels that allow you to be certain that what you are going to eat is not only tasty, but also made of  superior quality raw ingredients. &quot;La Salamandra&quot; is very well-known in Argentina, but has also won some prizes in USA. For example, this product won the 2000 Fancy Food Show's Gold Trophy for spreads/sweet toppings. <p>All in all, I advise you to indulge yourself and give &quot;La Salamandra&quot;'s dulce de leche a try. The price isn't overly high, so you don't have much to lose, and all to win :)<p>Belen Alcat\n",
      "6161\n",
      "I had the fortune a couple of years ago to have a coworker bring in some of this tea that she had purchased on a trip to Seattle.  It quickly supplanted every other tea we had at work and threw us into a fit of doldrums when we began to run low.  Fortunately another coworker had relatives living in the area and were coming down for a visit, so a conjoling plea was able to provide us with months more supply of this tea.  Then it too ran out.<p>Fortunately, however, they included ordering information with the last supply, but that didn't stop me from bugging anyone I possibly knew with relatives, friends or even people in town from Seattle to see if I could cajole my way to more of this very excellent tea!<p>It's a nice, flavorful tea that is at once sweet without being sweetening.  It also works as a half-half blend with regular black tea to bring up the flavor and sweetness of black tea and minimizing the natural flavor of this tea.  We enjoy it iced, but it works well hot also.  I am both excited and pleased to see that it is being offered to a wider market and urge anyone that has even the slightest love for tea to order this product now!<p>(I, of course, use nothing but the loose leaf variety)\n",
      "6197\n",
      "I purchased this product at a little shop in Venice last year. I had been looking everywhere for a &quot;traditional&quot; bottle. This is simply heaven over ice cream or cheese. I use this for very special occasions and it has never disappointed.<p>The packaging includes some very nice recipes and other serving suggestions.\n",
      "6447\n",
      "Hawaii Roasters coffee is awesome!!!  I discovered it when I received a gift basket from a co-worker last year and have been trying to find a way to buy it ever since!!<p>It is smooth, full-bodied, and comes in a great package!!<p>You'll love it!\n",
      "6557\n",
      "...I've never written a product review before, but this is such amazingly good coffee I just had to say so. From the first sip I knew this was coffee like I had never tasted before. And in Seattle - where coffee falls from the sky like so much rain - that's saying something.  I had planned to serve this as the perfect cap for a recent dinner party with friends, but it didn't last in my house long enough to make the dinner.  So I'm back for more.<p>Now I'm wondering if the folks at Hawaii Roasters have any openings.  I work cheap...you can pay me in these wonderful, rich coffee beans!\n",
      "6907\n",
      "If you haven't tried these you need to now!<p>They are incredible. You should order at least twice the amount you are thinking about because you just can't stop once you start.<p>Five stars because that's all i'm allowed to give them!\n",
      "7031\n",
      "Yes, summer's coming. Rather than drinking tea as sweet as breakfast cereal, consider this:<p>Take glass, fill with ice, pour in limeade. Add shot of cherry syrup, then stir, shake or swizzle until content.\n",
      "7192\n",
      "I do lots of muscle testing... and found that La Baleine Salt consistently tests better for people than any other salt...<br />Celtic Salt can test well... but is not always a good product...<p>There is the theory that vets give cows salt licks as farmers have to keep their cattle healthy... they can't afford lots of medicines...<p>Books like YOUR BODY'S MANY CRIES FOR WATER... also talk about salt...<p>Regular grocery store brands and most health food store brands test weak on people... <p>Keep Your Health Balanced with lots of water and enough salt... the right salt...\n",
      "8630\n",
      "This is my first experience purchasing and using dried pears since I live in a place where specialty items like this are not easily found.  This is the best price available of the varieties offered on Amazon, and the company responds immediately, with low shipping charges.<p>The product is unsulphered, which may be prefered by some.  Its texture is tough.  Its flavor is present but muted, rather like canned pears.  That said, when braised in a little chicken broth, the dried pears perked up and did what they were supposed to do in a wild rice pilaf dish.  I'll definitely soak them before adding to breads or cookies.<p>The next time I order, though, I may try Melissa's, to compare quality.\n",
      "9539\n",
      "I got some of this blend thinking that it would be a little different on steamed vegetables or greens, but when I tried it on eggs, I was astounded!  Used sparingly, it really makes plain old scrambled eggs into a taste treat.<p>The key  with all of these spice blends is to USE SPARINGLY!  I've used most of the other blends as well - a little goes a long way towards creating subtle overtones in your dishes.  Another good one is &quot;Are You Game?&quot;  Mostly I use that for meat dishes, but it's really good in lasagne and spaghetti sauce too.\n",
      "9546\n",
      "Wow, I never thought that I'd actually be writing a review on confectionaries, but as soon as I did a successful search for Brown &amp; Haley in the Amazon Gourmet Food shop, I just couldn't wait. The fact is, Brown &amp; Haley, the makers of Almond Roca, beloved by millions of fellow sweet-toothers, is based right here in my hometown of Tacoma, Washington. That's right, the place of the infamous &quot;Tacoma aroma&quot; is also the home of the very sweet aroma of Almond Roca, and has been for over one hundred years!<p>Almond Roca is a bite-size combination of milk chocolate with crushed almond pieces surrounding a core of rich butterscotch almond brittle, so it's kind of soft-but-crunchy &amp; chocolatey on the outside, and hard &amp; crunchy &amp; almond-sweet on the inside. My mouth is watering just describing it! I've got to get some right now....luckily, I can drive just three miles down Pacific Avenue to get it wholesale right from the source!<p>My hometown should be proud of the rich tradition of Brown &amp; Haley; if you're located nowhere near Tacoma and you've *never* tasted Almond Roca before, then what are you waiting for? Order the 7-ounce tin today, and give yourself---or the one you love---a treat that you or they will never forget!<p>MOST RECOMMENDED\n",
      "10108\n",
      "love the snack.  wanted to buy a bunch.<p>shipping at amazon is more than the price of the snack.  try ordering a dozen and then look at the shipping price.<p>every link i've tried to this snack takes you back to amazon's exhorbitant shipping rates.<p>another reason to buy your books at overstock.com.  too back they don't carry food as well.\n",
      "10133\n",
      "As one of the few who caught this on cable in the early 1980s, I can attest to the very disturbing nature of this film.  'Evilspeak' as a title doesn't have anything to do with the film itself, but that's fine.  It is one of those rare horror gems that wrings every cent of value from its limited budget.<p>Clint Howard is a downtrodden military school cadet who no one likes - he is beaten up by his fellow classmates, smacked around by his teachers, and beaten by the school chaplain (!). In despair, Clint conjures a long-dead devil through an Apple II computer.  (Yep, it turns out the Steve Jobs is evil incarnate after all!)  Who knew that Satan's minions could be called with an old Apple II with a dual-floppy drive?  Wouldn't it be easier to just call collect?<p>An explosive and gory revenge-fest follows....with explosions, swords, and wild pigs.  Pigs were great in 'Hannibal', but this movie did it first.<p>Clint Howard's only problem is the inevitable comparisons to Ron Howard.  But Clint is a fine genre actor and he brings some fine moments to this 'B' flick.  But be warned, this movie is disturbing and extremely violent.  <p>Recommended.\n",
      "10169\n",
      "On a recent trip to Holland I had the opportunity to experience<br />your excellent Senseo coffee.  I liked it so much that upon my return to<br />Seattle I immediately checked for the machine's availability in the<br />United States and was thrilled to find it at Amazon.com.  Last week I<br />bought the Senseo machine along with four boxes of medium roast<br />decaffeinated pods.  I also received one package of regular medium roast<br />and one package of mild roast with the Senseo machine. <p> To my horror all of the coffee I received is a very poor<br />substitute of the Douwe Egberts coffee I enjoyed so much in Holland.<br />The coffee that was delivered to me is weak and tasteless.  In fact, to<br />get halfway decent coffee I have to use two pods for one four-ounce cup.<br />This is unacceptable not only from the point of view of expense, it also<br />limits the use of the machine to one four-ounce serving at the time.  <p> I request that you provide Senseo coffee machine users here with<br />the same quality coffee you sell in Holland (at $16.99 for a four-pack<br />of pods it is more than twice as expensive here, which I'm willing to<br />pay only if the coffee is of the same superior quality).  Starbucks is a<br />huge success in this country because it sells real coffee, not some<br />watered-down version of the real thing.<p> Until I receive quality coffee to substitute for the poor coffee<br />I now have, I will tell my friends, neighbors, colleagues and anybody<br />else who might be interested not to invest in the Senseo machine.  In<br />the meantime I would be happy to return the coffee to you because I have<br />no use for it.  Please let me know when and how you expect to remedy<br />this situation.  If I do not hear from you within a week or so I will<br />return the Senseo machine and the remaining unused portion of the coffee<br />to Amazon.com for a full refund.<p> I look forward to hearing from you.\n",
      "10186\n",
      "I recently bought a Senseo machine and the Douwe Egberts Coffee pods.  The pods make a full-flavored decaf that is very enjoyable.  I agree the medium roast and mild roast are weak sisters compared to the dark roast.  <p>Medium is what several of my guests prefer, however.  I use the dark for myself and they all make a very good cuppa joe. MUCH better than my drip machine, and a lot easier to use than my espresso maker.\n",
      "10369\n",
      "Douwe Egberts makes some of the most delicious European coffee. When the Senseo Single Serve Coffee Maker was created, these single use, disposable coffee 'pods' fit together like hand in glove. 5,000,000 European coffee lovers cannot be wrong...Senseo Douwe Egberts is outstanding, fresh tasting coffee, and each imported 4 pack, (72 Single-Serve pods), comes attractively packaged in a resealable pouch.<p>Medium roast is apt to be a particular favorite for American coffee tastes. It has a rich, full-bodied flavor, neither bitter nor astringent. The Senseo coffee machine can make 1 4 oz cup, 2 4 oz cups, or a single 8 oz cup at a time. The self-contained pods use a tea bag filter-type paper and are approximately 2&quot; in diameter.<p>Right now, the price averages 25 cents per 4 ounce cup. The Senseo makes it with a bit of frothe on the top, and this medium roast coffee is fine straight up, or try it with a little sweetner and a dollop of Hazelnut creamer as I do.<p>I do envision the price point coming down a bit, as the Senseo system becomes the US equivalent of the European sensation. Douwe Egberts recommends using your pods within 2 weeks, however, I've had good luck storing the extras in the freezer section of my refrigerator with no dicernable flavor change.\n",
      "10602\n",
      "I found the mild was undrinkable and the medium barely tolerable.  But the dark roast is quite good.  Its on the Starbuck-type bitter side, but not as strong.  None of these single serving coffee machines will taste like fresh ground.  That is why you get some one star reviews for the Senseo.  <p>I keep the Senseo in my office for hassle-free single servings and it is great for that.  Even the dark roast is really not strong enough to qualify as espresso, so I suggest you just use the double packets and make a large cup.<p>Here is a further hint.  Use a 10 oz cup, not a standard 8.  Then put your milk in the cup and microwave for 30 seconds BEFORE you make the coffee.  After coffee is make make sure to stir with a stirrer.  Stirring is important and is actually recomended by Philips.<br />As long as your expectations are down to earth you should enjoy this product.  The machine itself has been flawless and doesnt seem flimsy at all.\n",
      "10647\n",
      "I have been using the Senseo for some time now and I realy can not live without it anymore. It changed my life!!<p>You have to try it now!\n",
      "10650\n",
      "I am trying to find out if these Senseo pods will work in the Melitta One-One. Don't even say, &quot;Call Customer Service&quot;. They all act like mindless drones who insist that you must purchase THEIR coffee maker, but WILL NOT answer the question whether the Senseo pod will fit/work in the one-one.<p>E-mail me: noledu@yahoo.com\n",
      "12618\n",
      "I love this stuff.  In the first week of taking it I immediately noticed a difference in my energy level.  Where before I'd be lagging at the office, now I can keep my sustained energy up without eating sugar or coffee. I swear by this stuff and am a loyal customer from here on out!  Thanks AMAZING GRASS.....<p>(p.s. I started off mixing it with juice, and now I mix it with just water to avoid the sugars. It's super delicious, taste like a naturally flavored juice)\n",
      "14692\n",
      "These coffee cakes make great gifts for any accasion!  I have given them to customers as well as my friends.  Everyone agrees that the cakes are tasty and delivery was timely.  These cakes can be frozen, but mine are always gone before  we even tink about freezing them.<br />Thanks for a gift that tastes like homemade with just a quick visit to your websight!<p>Gina<br />Saratoga, CA\n",
      "15929\n",
      "I was first introduced to Son Kite back in 2000. I was going through my psycho trance phase and decided to give this group a go after a native of Sweden recommended the duo. So I did, but I had a very bad migraine that night and learned that headaches and trance are not a happy union. The collective eventually grew on me and that was around the time when their first CD Minologue came out. Shoot forward four years, and along comes Colours. This CD is pimp. It is much more dance-friendly in my opinion than other things Son Kite have created. While Minologue was flat-out psychedelic trance, Colours ventures out into different genres. I can hear tidbits of progressive house, epic trance, and even a jazzy feel in these nine songs. Personal favorites include Jukebox, Games and Watch, and Focus. <p>I recommend this CD to anyone who is a fan of somewhat underground dance music.\n",
      "21244\n",
      "Boots (the most handsome red tom cat you'll ever see!) loves these treats.  We keep them on a shelf in the pantry - only problem is everytime we open the pantry door he thinks he gets a treat.<p>  We've tried other cat treats which he always eats (truth is, Boots eats everything!) but these seem to be his favorite by far.\n",
      "126558\n",
      "Sportea is the answer to a healthy daily drink.  It is the only thirst-quenching, great tasting drink/tea that I can drink all day and not get the adverse effects you get from a can of soda or regular caffine-loaded iced tea.  It has ZERO calories, very little caffine, ZERO calories, lots of electrolytes and vitamin C, ZERO calories, a sweet refreshing hint-of-citrus flavor, and ZERO calories!  I Drink about a gallon a day, so I am a big fan.  I just wish they would bottle it!  <p>(SPORTEA JUNKIE TIP: take a large cup, like a big-gulp cup, and put a Sportea Iced tea bag in the bottom, cover with some ice and add water to the top.  Let the Sportea steep for about 15 min. and then you are ready for guilt free sipping all day.  yum....:)\n",
      "140677\n",
      "Having received some Blue D'Auvergne along with several other artisan cheeses this Xmas, I was very pleased with the smoothness of this Blue. Unlike the more famous roquefort, D'Auvergne is slightly milder, with less of an after-flavor.  It does not overpower one's tastes and is a good choice for those looking for the strength of a french Bleu but wishing to avoid offending delicate palettes.  <p>This cheese is made from Sheep's Milk and contains the famed veins of blueish bacteria that give the cheese its signature flavor. This Blue was not wet nor sticky as many of the trendier Blues of late seem to have become. Neither has it the overly dry texture of say an English Blue Stilton, a traditional holiday Blue cheese on its own or in combination with the English Gloucster Cheddar and referred to as &quot;Huntsman&quot; cheese, whcih is very pretty, but suitable only as a dessert cheese or for afternoon Tea owing to its dryness.<p>Blue D'Auvergne, on the other hand, has a subtle creamy texture without being overly moist. Some Bleus err on the side of moistness now to the point of being more similar to a triple-creme.  Not so this Bleu. D'Auvergne slices well with the proper cutlery and can be crumbled if you'd like it that way.  It melted well atop a pear tart we made and complimented the sandy sweetness of the pears wtihout overpowering their delicate flavor &amp; scent as a Bleu such as Roquefort would have easily done.  This is a fine addition to the French Bleus and it was a pleasure to have on hand at a time when rich foods were bieng served and the D'Auvergne could be used to sprinkle atop a lightly seared Filet mignon with a sultana reduction sauce or tossed into a simple salad of dandilion greens, leftover crushed walnuts,and nasturtium vinegrette. The possibilities are endless.<p>This cheese was not too rich but was just rich enough to enhance any dish it graced. It's light tang was never overpowering, rather it added a gentle dash of excitment to the foods with which we paired it. Although there was none left over for a simpler dish, I would have loved to have tried it on its own either with wine or as part of a fruit plate.  I look forward to getting more of this fine cheese.\n",
      "193561\n",
      "For me, when the days get colder nothing is as rewarding as a simple cup of hot tea. And for it's claimed immunity benefits, a basic green tea is a common pick for maintaining a healthy natural balance during the flu season. From previous experiences in tasting the Tazo brand, both of the bottled and boxed products, they have proven to be unsurpassed for quality and flavor. Once I've tried their teas they immediately became my drink of choice. <p>The Zen Green Tea Blend is a wonderful one that has only a few ingredients with no artificial anything. And thankfully, doesn't boast the addition of fortified vitamins in some senseless amount. It truly is an enlightening blend of green tea, spearmint, lemongrass and lemon verbena. Thus making it versatile refreshment for anytime of the day, whether it's right after meals or between meals, or just before bedtime. Generally light and mild tasting, but that will depend upon how long you steep it and if you add a sweetener of some form.<p>Interesting too, are the amusing comments and remarks that appear on the packaging. Reading through this as you drink your tea makes it a distinctive experience. I never seen tea so clever! I wonder if consuming Tazo really does improve a person's outlook on life and affect his or her well being? I think it just could be the great taste and aroma and probably the reassuring thought of doing your health a favor.<br />Try a couple of their teas - they are sure to please!<br />And Tazo Zen Green Tea makes a good choice.\n",
      "213435\n",
      "My wife and I are dark chocolate snobs (Scharffenberger and Organic Trader Joe's Dark are our favorites) and so when we went low-carb we began hunting for alternatives.  Everything we tried was sorely lacking, either with an odd taste, bad texture, or causing serious stomach upset.  But, we tried this one out and lo and behold, it's excellent!  If I was going full carb, I'd still take the Scharffen, but for low-carb or sugar free this one is oustanding.  On top of that, their customer service was proactive, excellent, notifying me of a slight delay in shipping and actually refunding my shipping costs!  You don't find good service everyday and this was GREAT service.  <p>Great product plus great service = winning combination for me!  Try them for yourself.\n",
      "326514\n",
      "I have had products from the Coombs farm in my pantry for years.  This is what Maple Syrup tastes like.  This is the best Maple syrup I know of.  I use the Grade B for cooking (it has a stronger flavor that withstands cooking) - everything from breads to cookies and glazes.<p>This Grade A syrup is wonderful with anything, but I love just a tsp or two with real oatmeal.  I hear that some people make &quot;Mapletinis&quot; out of this syrup and vodka, but I can't say that I have tried one.\n"
     ]
    }
   ],
   "source": [
    " i = 0\n",
    " for sent in final['Text'].values:\n",
    "    if len(re.findall('<.?>',sent)):\n",
    "        print(i)\n",
    "        print(sent)\n",
    "    \n",
    "    i+=1"
   ]
  },
  {
   "cell_type": "code",
   "execution_count": 17,
   "metadata": {},
   "outputs": [
    {
     "name": "stderr",
     "output_type": "stream",
     "text": [
      "[nltk_data] Downloading package stopwords to\n",
      "[nltk_data]     /Users/avneeshgautam29/nltk_data...\n",
      "[nltk_data]   Package stopwords is already up-to-date!\n"
     ]
    }
   ],
   "source": [
    "import re\n",
    "import string\n",
    "from nltk.corpus import stopwords\n",
    "from nltk.stem import PorterStemmer\n",
    "from nltk.stem.wordnet import WordNetLemmatizer\n",
    "nltk.download('stopwords')\n",
    "stop =  set(stopwords.words('english'))\n",
    "sno = nltk.stem.SnowballStemmer('english')   # similar words"
   ]
  },
  {
   "cell_type": "code",
   "execution_count": 18,
   "metadata": {},
   "outputs": [
    {
     "name": "stdout",
     "output_type": "stream",
     "text": [
      "{'himself', 'yours', \"should've\", 'most', 'do', 'not', 'once', 'their', 'into', \"hadn't\", 'yourself', 'how', \"don't\", 'in', 'theirs', 'off', 'myself', 'few', 'his', \"weren't\", 'here', 'about', 'hers', 'doesn', \"you'd\", 'needn', 'all', \"doesn't\", 'we', 'your', 'by', 'too', 'didn', \"hasn't\", \"shouldn't\", 'ours', 'won', 's', 'out', 'are', 'other', 'up', 'no', 'nor', 'with', 'same', 'a', 'those', 'weren', 'themselves', 'will', 're', 'above', 'them', 'after', 'own', 'than', 'll', 've', 'each', 'below', 'does', 'i', 'but', 'because', 'more', \"aren't\", 'until', 'for', 'between', 'where', \"couldn't\", 'from', 'aren', 'hadn', 'isn', 'me', 'y', 'shan', 'who', \"won't\", 'an', 'itself', 'both', 'when', 'under', 'is', 'mightn', 'which', 'over', 'what', 'she', 'these', 'against', 'why', 'very', 't', \"needn't\", \"that'll\", 'wasn', 'should', \"you're\", 'wouldn', 'were', 'haven', 'at', 'couldn', \"didn't\", 'they', 'just', 'o', 'if', 'further', 'did', \"it's\", 'of', 'such', 'been', 'or', \"isn't\", \"mustn't\", \"wasn't\", 'was', 'have', 'while', 'him', \"mightn't\", 'you', 'don', 'am', 'whom', 'my', 'then', 'd', 'doing', 'ain', 'her', 'only', 'before', 'and', 'as', 'through', 'having', \"you've\", 'he', \"shan't\", 'herself', 'mustn', 'can', 'now', 'shouldn', 'during', \"wouldn't\", \"you'll\", 'be', 'it', 'm', 'that', 'on', 'its', 'again', 'hasn', 'yourselves', 'being', 'the', 'there', 'had', 'ma', 'some', 'our', 'down', 'any', \"haven't\", 'so', 'this', 'to', 'ourselves', \"she's\", 'has'}\n"
     ]
    }
   ],
   "source": [
    "def cleanhtml(scentence):\n",
    "    cleanr = re.compile('<.?>')\n",
    "    cleantext = re.sub(cleanr, ' ',scentence)\n",
    "    return cleantext\n",
    "\n",
    "def cleanpunc(scentence):\n",
    "    cleaned= re.sub(r'[?|!|\\'|\"#]',r'',scentence)\n",
    "    cleaned = re.sub(r'[.|,)|(|\\|/)]',r' ',cleaned)\n",
    "    return cleaned\n",
    "\n",
    "print(stop)"
   ]
  },
  {
   "cell_type": "code",
   "execution_count": 19,
   "metadata": {},
   "outputs": [
    {
     "name": "stdout",
     "output_type": "stream",
     "text": [
      "tast\n"
     ]
    }
   ],
   "source": [
    "print(sno.stem('taste'))"
   ]
  },
  {
   "cell_type": "code",
   "execution_count": 20,
   "metadata": {},
   "outputs": [],
   "source": [
    "# i = 0\n",
    "# str1 = ' '\n",
    "# all_positive_words = []\n",
    "# all_negative_words = []\n",
    "\n",
    "# s = ''\n",
    "\n",
    "# for sent in final['Text'].values:\n",
    "#     filtered_sentence = []\n",
    "#     sent = cleanhtml(sent)\n",
    "\n",
    "#     for w in sent.split():\n",
    "#         for cleaned_words in cleanpunc(w).split():\n",
    "#             if( (cleaned_words.isalpha()) & (len(cleaned_words) >2)) :\n",
    "#                 if(cleaned_words.lower() not in stop) :\n",
    "#                     s=(sno.stem(cleaned_words.lower())).encode('utf8')\n",
    "#                     filtered_sentence.append(s)\n",
    "#                     if(final['Score'].values)[i] == 'positive':\n",
    "#                         all_positive_words.append(s) #list of all words use\n",
    "#                     if(final['Score'].values)[i] == 'negative':\n",
    "#                         all_negative_words.append(s) #list of all words use\n",
    "#                 else:\n",
    "#                     continue\n",
    "#             else:\n",
    "#                 continue\n",
    "# #print(filtered_sentence)\n",
    "#     str1 = b\" \".join(filtered_sentence) #final string of cleaned words\n",
    "#     str1"
   ]
  },
  {
   "cell_type": "code",
   "execution_count": 21,
   "metadata": {},
   "outputs": [
    {
     "ename": "NameError",
     "evalue": "name 'all_positive_words' is not defined",
     "output_type": "error",
     "traceback": [
      "\u001b[0;31m---------------------------------------------------------------------------\u001b[0m",
      "\u001b[0;31mNameError\u001b[0m                                 Traceback (most recent call last)",
      "Cell \u001b[0;32mIn[21], line 1\u001b[0m\n\u001b[0;32m----> 1\u001b[0m \u001b[38;5;28mprint\u001b[39m(\u001b[43mall_positive_words\u001b[49m\u001b[38;5;241m.\u001b[39mshape)\n",
      "\u001b[0;31mNameError\u001b[0m: name 'all_positive_words' is not defined"
     ]
    }
   ],
   "source": [
    "print(all_positive_words.shape)"
   ]
  },
  {
   "cell_type": "markdown",
   "metadata": {},
   "source": [
    "# bi-gram"
   ]
  },
  {
   "cell_type": "code",
   "execution_count": 22,
   "metadata": {},
   "outputs": [],
   "source": [
    "count_vect = CountVectorizer(ngram_range = (1,2))\n",
    "final_bigram_counts = count_vect.fit_transform(final['Text'].values)\n"
   ]
  },
  {
   "cell_type": "code",
   "execution_count": 25,
   "metadata": {},
   "outputs": [
    {
     "data": {
      "text/plain": [
       "(328769, 2762122)"
      ]
     },
     "execution_count": 25,
     "metadata": {},
     "output_type": "execute_result"
    }
   ],
   "source": [
    "final_bigram_counts.shape"
   ]
  },
  {
   "cell_type": "code",
   "execution_count": 48,
   "metadata": {},
   "outputs": [
    {
     "data": {
      "text/plain": [
       "scipy.sparse._csr.csr_matrix"
      ]
     },
     "execution_count": 48,
     "metadata": {},
     "output_type": "execute_result"
    }
   ],
   "source": [
    "type(final_bigram_counts)"
   ]
  },
  {
   "cell_type": "markdown",
   "metadata": {},
   "source": [
    "# TF-IDF"
   ]
  },
  {
   "cell_type": "code",
   "execution_count": 28,
   "metadata": {},
   "outputs": [
    {
     "data": {
      "text/plain": [
       "(328769, 2762122)"
      ]
     },
     "execution_count": 28,
     "metadata": {},
     "output_type": "execute_result"
    }
   ],
   "source": [
    "tf_idf_vect = TfidfVectorizer(ngram_range=(1,2))\n",
    "final_tf_idf = tf_idf_vect.fit_transform(final['Text'].values)\n",
    "final_tf_idf.shape"
   ]
  },
  {
   "cell_type": "code",
   "execution_count": 34,
   "metadata": {},
   "outputs": [],
   "source": [
    "features = tf_idf_vect.get_feature_names_out()"
   ]
  },
  {
   "cell_type": "code",
   "execution_count": 42,
   "metadata": {},
   "outputs": [
    {
     "data": {
      "text/plain": [
       "array(['all soapy', 'all soba', 'all soda', 'all sodas', 'all sodastream',\n",
       "       'all sodium', 'all soft', 'all softened', 'all soggy',\n",
       "       'all soiled'], dtype=object)"
      ]
     },
     "execution_count": 42,
     "metadata": {},
     "output_type": "execute_result"
    }
   ],
   "source": [
    "features[100000:100010]"
   ]
  },
  {
   "cell_type": "code",
   "execution_count": 41,
   "metadata": {},
   "outputs": [
    {
     "data": {
      "text/plain": [
       "2762122"
      ]
     },
     "execution_count": 41,
     "metadata": {},
     "output_type": "execute_result"
    }
   ],
   "source": [
    "len(features)"
   ]
  },
  {
   "cell_type": "code",
   "execution_count": null,
   "metadata": {},
   "outputs": [],
   "source": []
  }
 ],
 "metadata": {
  "kernelspec": {
   "display_name": "Python 3",
   "language": "python",
   "name": "python3"
  },
  "language_info": {
   "codemirror_mode": {
    "name": "ipython",
    "version": 3
   },
   "file_extension": ".py",
   "mimetype": "text/x-python",
   "name": "python",
   "nbconvert_exporter": "python",
   "pygments_lexer": "ipython3",
   "version": "3.12.0"
  }
 },
 "nbformat": 4,
 "nbformat_minor": 2
}
